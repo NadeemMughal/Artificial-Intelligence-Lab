{
 "cells": [
  {
   "cell_type": "markdown",
   "id": "8b7b8dbd",
   "metadata": {},
   "source": [
    "# Class Partipation 01"
   ]
  },
  {
   "cell_type": "markdown",
   "id": "32a41fcf",
   "metadata": {},
   "source": [
    "## Kindly follow the given instructions below\n",
    "1. Download this file.\n",
    "2. Rename your file with your ID like.,\n",
    "    - *CP01_YOUR_ROLL_NUMBER* ==> $\\color{blue}{\\text{CP01_19250152}}$\n",
    "3. Write your solution of every question in its respective cell or block.\n",
    "4. Upload this file with your solutions.\n",
    "5. There will be **NO** any other file to be submitted.\n",
    "6. Penalty for plagirisam is to be straight **ZERO**.\n",
    "7. NO LATE SUBMISSION.\n",
    "8. $\\color{red}{\\text{LATE SUBMISSION WILL BE MARKED ZERO}}$"
   ]
  },
  {
   "cell_type": "markdown",
   "id": "cb47ed72",
   "metadata": {},
   "source": [
    "## 01. Mass and Weight\n",
    "\n",
    "Scientists measure an object’s mass in kilograms and its weight in newtons. If you know\n",
    "the amount of mass of an object in kilograms, you can calculate its weight in newtons with\n",
    "the following formula:\n",
    "**<center>weight = mass * 3 9.8</center>**\n",
    "Write a program that asks the user to enter an object’s mass, and then calculates its weight.\n",
    "If the object weighs more than 500 newtons, display a message indicating that it is too\n",
    "heavy. If the object weighs less than 100 newtons, display a message indicating that it is\n",
    "too light.\n"
   ]
  },
  {
   "cell_type": "code",
   "execution_count": 2,
   "id": "0ede9e43",
   "metadata": {
    "scrolled": true
   },
   "outputs": [
    {
     "name": "stdout",
     "output_type": "stream",
     "text": [
      "Enter an Object For Find Weight in Newton12\n",
      "\n",
      "The object's weight at 117.60 is just right.\n",
      "\n"
     ]
    }
   ],
   "source": [
    "### write your code here.\n",
    "mass = float(input('Enter an Object For Find Weight in Newton'))\n",
    "\n",
    "weight = mass * 9.8\n",
    "\n",
    "message = \"\\nThe object\"\n",
    "\n",
    "if weight < 100:\n",
    "    message =message + '  is light at  ' + format(weight,',.2f') + ' newtons.'\n",
    "elif weight >= 100 and weight <= 500:\n",
    "    message += '\\'s weight at ' + format(weight, ',.2f') + ' is just right.'\n",
    "elif weight > 500:\n",
    "    message += ' is heavy at ' + format(weight, ',.2f') + ' newtons.'\n",
    "\n",
    "print(message, end=\"\\n\\n\")\n"
   ]
  },
  {
   "cell_type": "markdown",
   "id": "85ca06c7",
   "metadata": {},
   "source": [
    "### 02. Hot Dogs Cookout Calculator\n",
    "Assume that hot dogs come in packages of 10, and hot dog buns come in packages of 8.\n",
    "Write a program that calculates the number of packages of hot dogs and the number of\n",
    "packages of hot dog buns needed for a cookout, with the minimum amount of leftovers.\n",
    "The program should ask the user for the number of people attending the cookout and the\n",
    "number of hot dogs each person will be given. The program should display the following\n",
    "details:\n",
    "* The minimum number of packages of hot dogs required\n",
    "* The minimum number of packages of hot dog buns required\n",
    "* The number of hot dogs that will be left over\n",
    "* The number of hot dog buns that will be left over"
   ]
  },
  {
   "cell_type": "code",
   "execution_count": null,
   "id": "1405ff96",
   "metadata": {},
   "outputs": [],
   "source": [
    "# write your code here.\n",
    "numOfPeople = int(input(\"Enter number of people: \"))\n",
    "\n",
    "numOfHotdogsPerPerson = int(input(\"Enter number of hot dogs: \"))\n",
    "\n",
    "numOfHotdogsPerPackage = 10\n",
    "\n",
    "numOfBunsPerPackage = 8\n",
    "\n",
    "totalNumberOfHotdogs = numOfPeople * numOfHotdogsPerPerson\n",
    "\n",
    "numberOfHotdogsPakagesNeeded = totalNumberOfHotdogs // numOfHotdogsPerPackage\n",
    "\n",
    "numberOfHotdogsBunsNeeded = totalNumberOfHotdogs // numOfBunsPerPackage\n",
    "\n",
    "numberOfHotdogsLeftOver = totalNumberOfHotdogs % numOfHotdogsPerPackage\n",
    "\n",
    "numberOfHotdogsBunsLeftOver = totalNumberOfHotdogs % numOfBunsPerPackage\n",
    "\n",
    "print(\"Minimum number of packages of hot dogs required =\", numberOfHotdogsPakagesNeeded)\n",
    "print(\"Minimum number of packages of hot dog buns required =\", numberOfHotdogsBunsNeeded)\n",
    "print(\"Number of hot dogs left over =\", numberOfHotdogsLeftOver)\n",
    "print(\"Number of hot dogs buns left over =\",numberOfHotdogsBunsLeftOver)"
   ]
  },
  {
   "cell_type": "markdown",
   "id": "3e3ed612",
   "metadata": {},
   "source": [
    "### 03. Miles Per Gallon\n",
    "\n",
    "Drivers are concerned with the mileage obtained\n",
    "by their automobiles. One driver has kept track of several tankfuls of\n",
    "gasoline by recording miles driven and gallons used for each tankful.\n",
    "Develop a sentinel-controlled-repetition script that prompts the user to\n",
    "input the miles driven and gallons used for each tankful. The script should\n",
    "calculate and display the miles per gallon obtained for each tankful. After\n",
    "processing all input information, the script should calculate and display\n",
    "the combined miles per gallon obtained for all tankfuls (that is, total miles\n",
    "driven divided by total gallons used).\n",
    "\n",
    "* Enter the gallons used (-1 to end): 12.8\n",
    "* Enter the miles driven: 287\n",
    "* The miles/gallon for this tank was 22.421875\n",
    "* Enter the gallons used (-1 to end): 10.3\n",
    "* Enter the miles driven: 200\n",
    "* The miles/gallon for this tank was 19.417475\n",
    "* Enter the gallons used (-1 to end): 5\n",
    "* Enter the miles driven: 120\n",
    "* The miles/gallon for this tank was 24.000000\n",
    "* Enter the gallons used (-1 to end): -1\n",
    "* The overall average miles/gallon was 21.601423"
   ]
  },
  {
   "cell_type": "code",
   "execution_count": 3,
   "id": "86a65ea2",
   "metadata": {},
   "outputs": [
    {
     "name": "stdout",
     "output_type": "stream",
     "text": [
      "Gallons Used? (-1 to end): -1-\n"
     ]
    },
    {
     "ename": "ValueError",
     "evalue": "could not convert string to float: '-1-'",
     "output_type": "error",
     "traceback": [
      "\u001b[1;31m---------------------------------------------------------------------------\u001b[0m",
      "\u001b[1;31mValueError\u001b[0m                                Traceback (most recent call last)",
      "\u001b[1;32mC:\\Users\\MRDEA0~1.NAD\\AppData\\Local\\Temp/ipykernel_11440/4161791395.py\u001b[0m in \u001b[0;36m<module>\u001b[1;34m\u001b[0m\n\u001b[0;32m      2\u001b[0m \u001b[1;33m\u001b[0m\u001b[0m\n\u001b[0;32m      3\u001b[0m \u001b[1;33m\u001b[0m\u001b[0m\n\u001b[1;32m----> 4\u001b[1;33m \u001b[0mgallons\u001b[0m\u001b[1;33m=\u001b[0m \u001b[0mfloat\u001b[0m\u001b[1;33m(\u001b[0m\u001b[0minput\u001b[0m\u001b[1;33m(\u001b[0m\u001b[1;34m\"Gallons Used? (-1 to end): \"\u001b[0m\u001b[1;33m)\u001b[0m\u001b[1;33m)\u001b[0m\u001b[1;33m\u001b[0m\u001b[1;33m\u001b[0m\u001b[0m\n\u001b[0m\u001b[0;32m      5\u001b[0m \u001b[1;33m\u001b[0m\u001b[0m\n\u001b[0;32m      6\u001b[0m \u001b[0mmiles\u001b[0m \u001b[1;33m=\u001b[0m \u001b[0mfloat\u001b[0m\u001b[1;33m(\u001b[0m\u001b[0minput\u001b[0m\u001b[1;33m(\u001b[0m\u001b[1;34m\"Miles Driven ? (-1 to end)\"\u001b[0m\u001b[1;33m)\u001b[0m\u001b[1;33m)\u001b[0m\u001b[1;33m\u001b[0m\u001b[1;33m\u001b[0m\u001b[0m\n",
      "\u001b[1;31mValueError\u001b[0m: could not convert string to float: '-1-'"
     ]
    }
   ],
   "source": [
    "# write your code here.\n",
    "\n",
    "\n",
    "gallons= float(input(\"Gallons Used? (-1 to end): \"))\n",
    "\n",
    "miles = float(input(\"Miles Driven ? (-1 to end)\"))\n",
    "\n",
    "mileage = 0.0\n",
    "\n",
    "count = 0\n",
    "\n",
    "while not (gallons == -1):\n",
    "\n",
    "   count += 1\n",
    "\n",
    "   mileage +=(miles/gallons)\n",
    "\n",
    "   print(\"The miles/gallon for this tank was \"+str(round(miles/gallons,6)))\n",
    "\n",
    "   gallons= float(input(\"Gallons Used? (-1 to end): \"))\n",
    "\n",
    "   miles = float(input(\"Miles Driven ? (-1 to end):\"))\n",
    "\n",
    "print(\"The total average miles\\gallons is \"+str(round(mileage/count,6)))\n",
    "\n"
   ]
  },
  {
   "cell_type": "markdown",
   "id": "681c23d6",
   "metadata": {},
   "source": [
    "### 04. Software Sales\n",
    "A software company sells a package that retails for $99. Quantity discounts are given\n",
    "according to the following table:\n",
    "\n",
    "| Quantity | Discount | \n",
    "| --- | --- |\n",
    "| 10–19 | 10% |\n",
    "| 20–49 | 20% |\n",
    "| 50–99 | 30% |\n",
    "| 100 or more | 40%|\n",
    "\n",
    "Write a program that asks the user to enter the number of packages purchased. The program\n",
    "should then display the amount of the discount (if any) and the total amount of the\n",
    "purchase after the discount."
   ]
  },
  {
   "cell_type": "code",
   "execution_count": 5,
   "id": "e8712ce4",
   "metadata": {},
   "outputs": [
    {
     "name": "stdout",
     "output_type": "stream",
     "text": [
      "\n",
      "Enter Number of packages purchased: 21\n",
      "\n",
      "Package total = $2,079.00\n",
      "Discount Percentage = 20%\n",
      "Discount amount = $415.80\n",
      "Grand total  = $1,663.20\n",
      "\n"
     ]
    }
   ],
   "source": [
    "# write your code here.\n",
    "pricePerPackage = 99.00\n",
    "\n",
    "numOfPackages = float(input('\\nEnter Number of packages purchased: '))\n",
    "\n",
    "display_message = \"\"\n",
    "\n",
    "if numOfPackages < 0:\n",
    "    display_message = \"Error. Number of packages must be greater than 0.\\nRe-run program and try again.\"\n",
    "else:\n",
    "    discount_percentage = 0\n",
    "\n",
    "    if numOfPackages < 10:\n",
    "        discount_percentage = 0\n",
    "    elif numOfPackages >= 10 and numOfPackages <= 19:\n",
    "        discount_percentage = .10\n",
    "    elif numOfPackages >= 20 and numOfPackages <= 49:\n",
    "        discount_percentage = .20 \n",
    "    elif numOfPackages >= 50 and numOfPackages <= 99:\n",
    "        discount_percentage = .30\n",
    "    elif numOfPackages >= 100:\n",
    "        discount_percentage = .40\n",
    "    \n",
    "    package_total = numOfPackages * pricePerPackage\n",
    "    discount_amount = (package_total) * discount_percentage\n",
    "    grand_total = package_total - discount_amount\n",
    "    display_message = \"Package total = $\" + format(package_total, ',.2f') + \\\n",
    "                      \"\\nDiscount Percentage = \" + format(discount_percentage, '.0%') + \\\n",
    "                      \"\\nDiscount amount = $\" + format(discount_amount, ',.2f') + \\\n",
    "                      \"\\nGrand total  = $\" + format(grand_total, ',.2f')\n",
    "\n",
    "\n",
    "print(\"\\n\" + display_message + \"\\n\")"
   ]
  },
  {
   "cell_type": "markdown",
   "id": "a9ace708",
   "metadata": {},
   "source": [
    "### 05. Shipping Charges\n",
    "\n",
    "The Fast Freight Shipping Company charges the following rates:\n",
    "\n",
    "| Weight of Package | Rate per Pound (Dollar) | \n",
    "| ---- | ---- |\n",
    "| 2 pounds or less |  1.50 |\n",
    "| Over 2 pounds but not more than 6 pounds |  3.00 |\n",
    "| Over 6 pounds but not more than 10 pounds | 4.00 |\n",
    "| Over 10 pounds | 4.75 |\n",
    "\n",
    "Write a program that asks the user to enter the weight of a package and then displays the\n",
    "shipping charges."
   ]
  },
  {
   "cell_type": "code",
   "execution_count": 12,
   "id": "5cd8d55b",
   "metadata": {},
   "outputs": [
    {
     "name": "stdout",
     "output_type": "stream",
     "text": [
      "Enter weight of package: 21\n",
      "Shipping charges = $99.75\n"
     ]
    }
   ],
   "source": [
    "## write your code here.\n",
    "weightOfPackage = float(input(\"Enter weight of package: \"))\n",
    "shippingCharges = 0.0\n",
    "\n",
    "message = \"Shipping charges = \"\n",
    "\n",
    "if weightOfPackage <= 2:\n",
    "    shippingCharges = weightOfPackage * 1.50\n",
    "elif weightOfPackage > 2 and weightOfPackage <= 6:\n",
    "    shippingCharges = weightOfPackage * 3.00\n",
    "elif weightOfPackage > 6 and weightOfPackage <= 10:\n",
    "    shippingCharges = weightOfPackage * 4.00\n",
    "elif weightOfPackage > 10:\n",
    "    shippingCharges = weightOfPackage * 4.75\n",
    "\n",
    "message += \"$\" + format(shippingCharges, ',.2f')\n",
    "\n",
    "print(message)"
   ]
  },
  {
   "cell_type": "markdown",
   "id": "6405eeae",
   "metadata": {},
   "source": [
    "### 06. Body Mass Index\n",
    "\n",
    "Write a program that calculates and displays a person’s body mass index (BMI). The BMI\n",
    "is often used to determine whether a person is overweight or underweight for his or her\n",
    "height. A person’s BMI is calculated with the following formula:\n",
    "\n",
    "\n",
    "**<center>BMI = weight * 703 / height^2</center>**\n",
    "\n",
    "where weight is measured in pounds and height is measured in inches. The program\n",
    "should ask the user to enter his or her weight and height and then display the user’s BMI.\n",
    "The program should also display a message indicating whether the person has optimal\n",
    "weight, is underweight, or is overweight. A person’s weight is considered to be optimal\n",
    "if his or her BMI is between 18.5 and 25. If the BMI is less than 18.5, the person is considered\n",
    "to be underweight. If the BMI value is greater than 25, the person is considered\n",
    "to be overweight."
   ]
  },
  {
   "cell_type": "code",
   "execution_count": 8,
   "id": "143953f7",
   "metadata": {},
   "outputs": [
    {
     "name": "stdout",
     "output_type": "stream",
     "text": [
      "Enter weight (in pounds): 21\n",
      "Enter height (in inches): 12\n",
      "Your weight is considered overweight  BMI = 102.52\n"
     ]
    }
   ],
   "source": [
    "# write your code here.\n"
   ]
  },
  {
   "cell_type": "code",
   "execution_count": null,
   "id": "af0a3036",
   "metadata": {},
   "outputs": [],
   "source": []
  }
 ],
 "metadata": {
  "kernelspec": {
   "display_name": "Python 3 (ipykernel)",
   "language": "python",
   "name": "python3"
  },
  "language_info": {
   "codemirror_mode": {
    "name": "ipython",
    "version": 3
   },
   "file_extension": ".py",
   "mimetype": "text/x-python",
   "name": "python",
   "nbconvert_exporter": "python",
   "pygments_lexer": "ipython3",
   "version": "3.9.7"
  }
 },
 "nbformat": 4,
 "nbformat_minor": 5
}
