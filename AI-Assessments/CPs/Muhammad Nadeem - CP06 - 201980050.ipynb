{
 "cells": [
  {
   "cell_type": "markdown",
   "id": "8b7b8dbd",
   "metadata": {},
   "source": [
    "# Class Partipation 06"
   ]
  },
  {
   "cell_type": "markdown",
   "id": "32a41fcf",
   "metadata": {},
   "source": [
    "## Kindly follow the given instructions below\n",
    "1. Download this file.\n",
    "2. Rename your file with your ID like.,\n",
    "    - *YOUR_NAME - CP07 - YOUR_ROLL_NUMBERR* ==> $\\color{blue}{\\text{Muhammad Nadeem - CP06 - 201980050}}$\n",
    "3. Write your solution of every question in its respective cell or block.\n",
    "4. Upload this file with your solutions.\n",
    "5. There will be **NO** any other file to be submitted.\n",
    "6. Penalty for plagirisam is to be straight **ZERO**.\n",
    "7. **NO LATE SUBMISSION.**\n",
    "8. $\\color{red}{\\text{LATE SUBMISSION WILL BE MARKED ZERO}}$"
   ]
  },
  {
   "cell_type": "markdown",
   "id": "dc6df960",
   "metadata": {},
   "source": [
    "### Exercise-01\n",
    "\n",
    "Create an array of table 02 unig Numpy Array and then Iterate it."
   ]
  },
  {
   "cell_type": "code",
   "execution_count": 2,
   "id": "4b2ebd9d",
   "metadata": {
    "code_folding": []
   },
   "outputs": [
    {
     "name": "stdout",
     "output_type": "stream",
     "text": [
      "12\n",
      "23\n",
      "43\n",
      "54\n"
     ]
    }
   ],
   "source": [
    "# write your code here.\n",
    "import numpy as np\n",
    "\n",
    "my_array = np.array([[12, 23], [43, 54]])\n",
    "for row in my_array:\n",
    "    for element in row:\n",
    "        print(element)\n"
   ]
  },
  {
   "cell_type": "markdown",
   "id": "85ca06c7",
   "metadata": {},
   "source": [
    "### Exercise-02\n",
    "\n",
    "Create 8-by-8 matrix and fill it with a pattern of checkerboard like\n",
    "    \n",
    "    # 0 1 0\n",
    "    # 1 0 1\n",
    "    # 0 1 0"
   ]
  },
  {
   "cell_type": "code",
   "execution_count": 3,
   "id": "1405ff96",
   "metadata": {},
   "outputs": [
    {
     "name": "stdout",
     "output_type": "stream",
     "text": [
      "[[1 0 1 0 1 0 1 0]\n",
      " [0 1 0 1 0 1 0 1]\n",
      " [1 0 1 0 1 0 1 0]\n",
      " [0 1 0 1 0 1 0 1]\n",
      " [1 0 1 0 1 0 1 0]\n",
      " [0 1 0 1 0 1 0 1]\n",
      " [1 0 1 0 1 0 1 0]\n",
      " [0 1 0 1 0 1 0 1]]\n"
     ]
    }
   ],
   "source": [
    "# write your code here.\n",
    "import numpy as np\n",
    "\n",
    "# Create an 8-by-8 matrix of zeros\n",
    "matrix = np.zeros((8, 8), dtype=int)\n",
    "\n",
    "# Set every other element in each row and column to 1\n",
    "for i in range(8):\n",
    "    for j in range(8):\n",
    "        if (i+j)%2 == 0:\n",
    "            matrix[i, j] = 1\n",
    "\n",
    "# Print the resulting matrix\n",
    "print(matrix)\n"
   ]
  },
  {
   "cell_type": "markdown",
   "id": "3e3ed612",
   "metadata": {},
   "source": [
    "### Exercise-03\n",
    "\n",
    "Create 10-by-10 matrix, in which the elements on the borders will be equal to 1, and inside 0."
   ]
  },
  {
   "cell_type": "code",
   "execution_count": 4,
   "id": "86a65ea2",
   "metadata": {},
   "outputs": [
    {
     "name": "stdout",
     "output_type": "stream",
     "text": [
      "[[1 1 1 1 1 1 1 1 1 1]\n",
      " [1 0 0 0 0 0 0 0 0 1]\n",
      " [1 0 0 0 0 0 0 0 0 1]\n",
      " [1 0 0 0 0 0 0 0 0 1]\n",
      " [1 0 0 0 0 0 0 0 0 1]\n",
      " [1 0 0 0 0 0 0 0 0 1]\n",
      " [1 0 0 0 0 0 0 0 0 1]\n",
      " [1 0 0 0 0 0 0 0 0 1]\n",
      " [1 0 0 0 0 0 0 0 0 1]\n",
      " [1 1 1 1 1 1 1 1 1 1]]\n"
     ]
    }
   ],
   "source": [
    "# write your code here.\n",
    "import numpy as np\n",
    "\n",
    "# Create a 10-by-10 matrix of zeros\n",
    "matrix = np.zeros((10, 10), dtype=int)\n",
    "\n",
    "# Set the border elements to 1\n",
    "matrix[0, :] = 1\n",
    "matrix[-1, :] = 1\n",
    "matrix[:, 0] = 1\n",
    "matrix[:, -1] = 1\n",
    "\n",
    "# Print the resulting matrix\n",
    "print(matrix)\n"
   ]
  },
  {
   "cell_type": "markdown",
   "id": "50489050",
   "metadata": {},
   "source": [
    "### Exercise-04\n",
    "\n",
    "Create a given matrix first then find the number of rows and columns.\n",
    "    \n",
    "    # [[10 11 12 13]\n",
    "    # [14 15 16 17]\n",
    "    # [18 19 20 21]]"
   ]
  },
  {
   "cell_type": "code",
   "execution_count": 5,
   "id": "85cf5d2d",
   "metadata": {},
   "outputs": [
    {
     "name": "stdout",
     "output_type": "stream",
     "text": [
      "[[10 11 12 13]\n",
      " [14 15 16 17]\n",
      " [18 19 20 21]]\n",
      "Number of rows: 3\n",
      "Number of columns: 4\n"
     ]
    }
   ],
   "source": [
    "# write your code here.\n",
    "import numpy as np\n",
    "\n",
    "# Create a 3-by-4 matrix with the given values\n",
    "matrix = np.array([[10, 11, 12, 13], [14, 15, 16, 17], [18, 19, 20, 21]])\n",
    "\n",
    "# Print the resulting matrix\n",
    "print(matrix)\n",
    "# Find the number of rows and columns\n",
    "num_rows, num_cols = matrix.shape\n",
    "\n",
    "# Print the number of rows and columns\n",
    "print(f\"Number of rows: {num_rows}\")\n",
    "print(f\"Number of columns: {num_cols}\")\n",
    "\n"
   ]
  },
  {
   "cell_type": "markdown",
   "id": "794aa515",
   "metadata": {},
   "source": [
    "### Exercise-05\n",
    "\n",
    "Reshape above 2-D array to one dimensional array"
   ]
  },
  {
   "cell_type": "code",
   "execution_count": 6,
   "id": "207ef7d1",
   "metadata": {},
   "outputs": [
    {
     "name": "stdout",
     "output_type": "stream",
     "text": [
      "[10 11 12 13 14 15 16 17 18 19 20 21]\n"
     ]
    }
   ],
   "source": [
    "# write your code here.\n",
    "import numpy as np\n",
    "\n",
    "# Create a 3-by-4 matrix with the given values\n",
    "matrix = np.array([[10, 11, 12, 13], [14, 15, 16, 17], [18, 19, 20, 21]])\n",
    "\n",
    "# Reshape the matrix to a one-dimensional array\n",
    "one_dim_array = matrix.reshape(-1)\n",
    "\n",
    "# Print the resulting one-dimensional array\n",
    "print(one_dim_array)\n"
   ]
  },
  {
   "cell_type": "markdown",
   "id": "1cf27541",
   "metadata": {},
   "source": [
    "### Exercise-06\n",
    "\n",
    "Create a 5-by-7 matrix filled with values from 55 to 90"
   ]
  },
  {
   "cell_type": "code",
   "execution_count": 7,
   "id": "e301e51a",
   "metadata": {},
   "outputs": [
    {
     "name": "stdout",
     "output_type": "stream",
     "text": [
      "[[55 56 57 58 59 60 61]\n",
      " [62 63 64 65 66 67 68]\n",
      " [69 70 71 72 73 74 75]\n",
      " [76 77 78 79 80 81 82]\n",
      " [83 84 85 86 87 88 89]]\n"
     ]
    }
   ],
   "source": [
    "# write your code here.\n",
    "import numpy as np\n",
    "\n",
    "# Create a 5-by-7 matrix with values from 55 to 90\n",
    "matrix = np.arange(55, 55+35).reshape((5,7))\n",
    "\n",
    "# Print the resulting matrix\n",
    "print(matrix)\n"
   ]
  },
  {
   "cell_type": "code",
   "execution_count": null,
   "id": "d5fdc6f4",
   "metadata": {},
   "outputs": [],
   "source": []
  }
 ],
 "metadata": {
  "kernelspec": {
   "display_name": "Python 3 (ipykernel)",
   "language": "python",
   "name": "python3"
  },
  "language_info": {
   "codemirror_mode": {
    "name": "ipython",
    "version": 3
   },
   "file_extension": ".py",
   "mimetype": "text/x-python",
   "name": "python",
   "nbconvert_exporter": "python",
   "pygments_lexer": "ipython3",
   "version": "3.9.7"
  }
 },
 "nbformat": 4,
 "nbformat_minor": 5
}
