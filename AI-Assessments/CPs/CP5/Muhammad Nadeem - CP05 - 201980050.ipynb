{
 "cells": [
  {
   "cell_type": "markdown",
   "id": "8b7b8dbd",
   "metadata": {},
   "source": [
    "# Class Partipation 04"
   ]
  },
  {
   "cell_type": "markdown",
   "id": "32a41fcf",
   "metadata": {},
   "source": [
    "## Kindly follow the given instructions below\n",
    "1. Download this file.\n",
    "2. Rename your file with your ID like.,\n",
    "    - *YOUR_NAME - CP05 - YOUR_ROLL_NUMBERR* ==> $\\color{blue}{\\text{Muhammad Nadeem - CP05 - 201980050}}$\n",
    "3. Write your solution of every question in its respective cell or block.\n",
    "4. Upload this file with your solutions.\n",
    "5. There will be **NO** any other file to be submitted.\n",
    "6. Penalty for plagirisam is to be straight **ZERO**.\n",
    "7. **NO LATE SUBMISSION.**\n",
    "8. $\\color{red}{\\text{LATE SUBMISSION WILL BE MARKED ZERO}}$"
   ]
  },
  {
   "cell_type": "markdown",
   "id": "dc6df960",
   "metadata": {},
   "source": [
    "### Exercise-01\n",
    "\n",
    "Write a function in python to count the number of lines from a text file \"story.txt\" which is not starting with an alphabet \"T\".\n",
    "\n",
    "Example: If the file \"story.txt\" contains the following lines;\n",
    "\n",
    "A boy is playing there.\n",
    "There is a playground.\n",
    "An aeroplane is in the sky.\n",
    "The sky is pink.\n",
    "Alphabets and numbers are allowed in the password.\n",
    "\n",
    "Create story.txt file manually first, add above lines."
   ]
  },
  {
   "cell_type": "code",
   "execution_count": 2,
   "id": "4b2ebd9d",
   "metadata": {
    "code_folding": []
   },
   "outputs": [
    {
     "name": "stdout",
     "output_type": "stream",
     "text": [
      "3\n"
     ]
    }
   ],
   "source": [
    "# write your code here.\n",
    "file_name = \"story.txt\"\n",
    "\n",
    "def count_lines(file_name):\n",
    "    with open(file_name, 'r') as file:\n",
    "        count = 0\n",
    "        for line in file:\n",
    "            if not line.startswith('T'):\n",
    "                count += 1\n",
    "        return count\n",
    "\n",
    "print(count_lines(file_name))\n"
   ]
  },
  {
   "cell_type": "markdown",
   "id": "85ca06c7",
   "metadata": {},
   "source": [
    "### Exercise-02\n",
    "\n",
    "Write a function display_words() in python to read lines from a text file \"story.txt\", and display those words, which are less than 4 characters."
   ]
  },
  {
   "cell_type": "code",
   "execution_count": 3,
   "id": "1405ff96",
   "metadata": {},
   "outputs": [
    {
     "name": "stdout",
     "output_type": "stream",
     "text": [
      "A\n",
      "boy\n",
      "is\n",
      "is\n",
      "a\n",
      "An\n",
      "is\n",
      "in\n",
      "the\n",
      "The\n",
      "sky\n",
      "is\n",
      "and\n",
      "are\n",
      "in\n",
      "the\n"
     ]
    }
   ],
   "source": [
    "# write your code here.\n",
    "file_name = \"story.txt\"\n",
    "\n",
    "def display_words(file_name):\n",
    "    with open(file_name, 'r') as file:\n",
    "        for line in file:\n",
    "            words = line.split()\n",
    "            for word in words:\n",
    "                if len(word) < 4:\n",
    "                    print(word)\n",
    "\n",
    "display_words(file_name)\n"
   ]
  },
  {
   "cell_type": "markdown",
   "id": "3e3ed612",
   "metadata": {},
   "source": [
    "### Exercise-03\n",
    "\n",
    "Write a function in Python to count words in a text file those are ending with alphabet \"e\"."
   ]
  },
  {
   "cell_type": "code",
   "execution_count": 4,
   "id": "86a65ea2",
   "metadata": {},
   "outputs": [
    {
     "name": "stdout",
     "output_type": "stream",
     "text": [
      "6\n"
     ]
    }
   ],
   "source": [
    "# write your code here.\n",
    "file_name = \"story.txt\"\n",
    "def count_words(file_name):\n",
    "    with open(file_name, 'r') as file:\n",
    "        count = 0\n",
    "        for line in file:\n",
    "            words = line.split()\n",
    "            for word in words:\n",
    "                if word.endswith('e'):\n",
    "                    count += 1\n",
    "        return count\n",
    "\n",
    "\n",
    "print(count_words(file_name))\n"
   ]
  },
  {
   "cell_type": "markdown",
   "id": "50489050",
   "metadata": {},
   "source": [
    "### Exercise-04\n",
    "\n",
    "Create a \"student.csv\" file with dummy students data having fields ID, Name, Dept, CGPA, Semester, Marks. Write a program to read all content of “student.csv” and display records of only those students who scored more than 80 marks. Records stored in students is in format : ID, Name, Marks"
   ]
  },
  {
   "cell_type": "code",
   "execution_count": 8,
   "id": "85cf5d2d",
   "metadata": {},
   "outputs": [
    {
     "name": "stdout",
     "output_type": "stream",
     "text": [
      "1, Nadeem, 81\n",
      "4, Talha, 90\n",
      "5, Sahil, 100\n"
     ]
    }
   ],
   "source": [
    "# write your code here.\n",
    "import csv\n",
    "file_name = \"student.csv\"\n",
    "\n",
    "def display_records(file_name):\n",
    "    with open(file_name, 'r') as file:\n",
    "        reader = csv.reader(file)\n",
    "        header = next(reader)\n",
    "        for row in reader:\n",
    "            id, name, dept, cgpa, semester, marks = row\n",
    "            marks = int(marks)\n",
    "            if marks > 80:\n",
    "                print(f\"{id}, {name}, {marks}\")\n",
    "\n",
    "display_records(file_name)\n"
   ]
  }
 ],
 "metadata": {
  "kernelspec": {
   "display_name": "Python 3 (ipykernel)",
   "language": "python",
   "name": "python3"
  },
  "language_info": {
   "codemirror_mode": {
    "name": "ipython",
    "version": 3
   },
   "file_extension": ".py",
   "mimetype": "text/x-python",
   "name": "python",
   "nbconvert_exporter": "python",
   "pygments_lexer": "ipython3",
   "version": "3.9.7"
  }
 },
 "nbformat": 4,
 "nbformat_minor": 5
}
