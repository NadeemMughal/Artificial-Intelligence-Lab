{
 "cells": [
  {
   "cell_type": "markdown",
   "id": "8b7b8dbd",
   "metadata": {
    "pycharm": {
     "name": "#%% md\n"
    }
   },
   "source": [
    "# Class Partipation 03"
   ]
  },
  {
   "cell_type": "markdown",
   "id": "32a41fcf",
   "metadata": {
    "pycharm": {
     "name": "#%% md\n"
    }
   },
   "source": [
    "## Kindly follow the given instructions below\n",
    "1. Download this file.\n",
    "2. Rename your file with your ID like.,\n",
    "    - *YourName - CP03 - YOUR_ROLL_NUMBER* ==> $\\color{blue}{\\text{Muhammad Nadeem - CP03 - 201980050}}$\n",
    "3. Write your solution of every question in its respective cell or block.\n",
    "4. Upload this file with your solutions.\n",
    "5. There will be **NO** any other file to be submitted.\n",
    "6. Penalty for plagirisam is to be straight **ZERO**.\n",
    "7. **NO LATE SUBMISSION.**\n",
    "8. $\\color{red}{\\text{LATE SUBMISSION WILL BE MARKED ZERO}}$"
   ]
  },
  {
   "cell_type": "markdown",
   "id": "17841261",
   "metadata": {
    "pycharm": {
     "name": "#%% md\n"
    }
   },
   "source": [
    "### 01. Capital Quiz\n",
    "\n",
    "Write a program that creates a dictionary containing the U.S. states as keys and their capitals\n",
    "as values. (Use the Internet to get a list of the states and their capitals.) The program\n",
    "should then randomly quiz the user by displaying the name of a state and asking the user\n",
    "to enter that state’s capital. The program should keep a count of the number of correct and\n",
    "incorrect responses. (As an alternative to the U.S. states, the program can use the names of\n",
    "countries and their capitals.)"
   ]
  },
  {
   "cell_type": "code",
   "execution_count": 2,
   "id": "4b2ebd9d",
   "metadata": {
    "code_folding": [],
    "pycharm": {
     "name": "#%%\n"
    }
   },
   "outputs": [
    {
     "name": "stdout",
     "output_type": "stream",
     "text": [
      "What is the capital of West Virginia? Charleston\n",
      "Correct!\n",
      "What is the capital of Oregon? Salem\n",
      "Correct!\n",
      "What is the capital of Illinois? \n",
      "Incorrect. The capital of Illinois is Springfield.\n",
      "What is the capital of Arkansas? \n",
      "Incorrect. The capital of Arkansas is Little Rock.\n",
      "What is the capital of Tennessee? \n",
      "Incorrect. The capital of Tennessee is Nashville.\n",
      "What is the capital of Maine? \n",
      "Incorrect. The capital of Maine is Augusta.\n",
      "What is the capital of California? \n",
      "Incorrect. The capital of California is Sacramento.\n",
      "What is the capital of Georgia? \n",
      "Incorrect. The capital of Georgia is Atlanta.\n",
      "What is the capital of New Jersey? \n",
      "Incorrect. The capital of New Jersey is Trenton.\n",
      "What is the capital of Iowa? \n",
      "Incorrect. The capital of Iowa is Des Moines.\n",
      "What is the capital of Kansas? \n",
      "Incorrect. The capital of Kansas is Topeka.\n",
      "What is the capital of Arizona? \n",
      "Incorrect. The capital of Arizona is Phoenix.\n",
      "What is the capital of Minnesota? \n",
      "Incorrect. The capital of Minnesota is St. Paul.\n",
      "What is the capital of New Hampshire? \n",
      "Incorrect. The capital of New Hampshire is Concord.\n",
      "What is the capital of South Dakota? \n",
      "Incorrect. The capital of South Dakota is Pierre.\n",
      "What is the capital of Indiana? \n",
      "Incorrect. The capital of Indiana is Indianapolis.\n",
      "What is the capital of New York? \n",
      "Incorrect. The capital of New York is Albany.\n",
      "What is the capital of Maryland? \n",
      "Incorrect. The capital of Maryland is Annapolis.\n",
      "What is the capital of Montana? \n",
      "Incorrect. The capital of Montana is Helena.\n",
      "What is the capital of North Carolina? \n",
      "Incorrect. The capital of North Carolina is Raleigh.\n",
      "What is the capital of Colorado? \n",
      "Incorrect. The capital of Colorado is Denver.\n",
      "What is the capital of Alabama? \n",
      "Incorrect. The capital of Alabama is Montgomery.\n",
      "What is the capital of Rhode Island? \n",
      "Incorrect. The capital of Rhode Island is Providence.\n",
      "What is the capital of Idaho? \n",
      "Incorrect. The capital of Idaho is Boise.\n",
      "What is the capital of Texas? \n",
      "Incorrect. The capital of Texas is Austin.\n",
      "What is the capital of North Dakota? \n",
      "Incorrect. The capital of North Dakota is Bismarck.\n",
      "What is the capital of Delaware? \n",
      "Incorrect. The capital of Delaware is Dover.\n",
      "What is the capital of Mississippi? \n",
      "Incorrect. The capital of Mississippi is Jackson.\n",
      "What is the capital of Wyoming? \n",
      "Incorrect. The capital of Wyoming is Cheyenne.\n",
      "What is the capital of Florida? \n",
      "Incorrect. The capital of Florida is Tallahassee.\n",
      "What is the capital of Nevada? \n",
      "Incorrect. The capital of Nevada is Carson City.\n",
      "What is the capital of Washington? \n",
      "Incorrect. The capital of Washington is Olympia.\n",
      "What is the capital of Michigan? \n",
      "Incorrect. The capital of Michigan is Lansing.\n",
      "What is the capital of Pennsylvania? \n",
      "Incorrect. The capital of Pennsylvania is Harrisburg.\n",
      "What is the capital of Virginia? \n",
      "Incorrect. The capital of Virginia is Richmond.\n",
      "What is the capital of Utah? \n",
      "Incorrect. The capital of Utah is Salt Lake City.\n",
      "What is the capital of Alaska? \n",
      "Incorrect. The capital of Alaska is Juneau.\n",
      "What is the capital of New Mexico? \n",
      "Incorrect. The capital of New Mexico is Santa Fe.\n",
      "What is the capital of Hawaii? \n",
      "Incorrect. The capital of Hawaii is Honolulu.\n",
      "What is the capital of Louisiana? \n",
      "Incorrect. The capital of Louisiana is Baton Rouge.\n",
      "What is the capital of Ohio? \n",
      "Incorrect. The capital of Ohio is Columbus.\n",
      "What is the capital of Wisconsin? \n",
      "Incorrect. The capital of Wisconsin is Madison.\n",
      "What is the capital of South Carolina? \n",
      "Incorrect. The capital of South Carolina is Columbia.\n",
      "What is the capital of Vermont? \n",
      "Incorrect. The capital of Vermont is Montpelier.\n",
      "What is the capital of Massachusetts? \n",
      "Incorrect. The capital of Massachusetts is Boston.\n",
      "What is the capital of Kentucky? \n",
      "Incorrect. The capital of Kentucky is Frankfort.\n",
      "What is the capital of Nebraska? \n",
      "Incorrect. The capital of Nebraska is Lincoln.\n",
      "What is the capital of Missouri? \n",
      "Incorrect. The capital of Missouri is Jefferson City.\n",
      "What is the capital of Oklahoma? \n",
      "Incorrect. The capital of Oklahoma is Oklahoma City.\n",
      "What is the capital of Connecticut? \n",
      "Incorrect. The capital of Connecticut is Hartford.\n",
      "You got 2 answers correct and 48 answers incorrect.\n"
     ]
    }
   ],
   "source": [
    "# write your code here.\n",
    "import random\n",
    "\n",
    "# create dictionary of states and their capitals\n",
    "states_capitals = {\n",
    "    \"Alabama\": \"Montgomery\",\n",
    "    \"Alaska\": \"Juneau\",\n",
    "    \"Arizona\": \"Phoenix\",\n",
    "    \"Arkansas\": \"Little Rock\",\n",
    "    \"California\": \"Sacramento\",\n",
    "    \"Colorado\": \"Denver\",\n",
    "    \"Connecticut\": \"Hartford\",\n",
    "    \"Delaware\": \"Dover\",\n",
    "    \"Florida\": \"Tallahassee\",\n",
    "    \"Georgia\": \"Atlanta\",\n",
    "    \"Hawaii\": \"Honolulu\",\n",
    "    \"Idaho\": \"Boise\",\n",
    "    \"Illinois\": \"Springfield\",\n",
    "    \"Indiana\": \"Indianapolis\",\n",
    "    \"Iowa\": \"Des Moines\",\n",
    "    \"Kansas\": \"Topeka\",\n",
    "    \"Kentucky\": \"Frankfort\",\n",
    "    \"Louisiana\": \"Baton Rouge\",\n",
    "    \"Maine\": \"Augusta\",\n",
    "    \"Maryland\": \"Annapolis\",\n",
    "    \"Massachusetts\": \"Boston\",\n",
    "    \"Michigan\": \"Lansing\",\n",
    "    \"Minnesota\": \"St. Paul\",\n",
    "    \"Mississippi\": \"Jackson\",\n",
    "    \"Missouri\": \"Jefferson City\",\n",
    "    \"Montana\": \"Helena\",\n",
    "    \"Nebraska\": \"Lincoln\",\n",
    "    \"Nevada\": \"Carson City\",\n",
    "    \"New Hampshire\": \"Concord\",\n",
    "    \"New Jersey\": \"Trenton\",\n",
    "    \"New Mexico\": \"Santa Fe\",\n",
    "    \"New York\": \"Albany\",\n",
    "    \"North Carolina\": \"Raleigh\",\n",
    "    \"North Dakota\": \"Bismarck\",\n",
    "    \"Ohio\": \"Columbus\",\n",
    "    \"Oklahoma\": \"Oklahoma City\",\n",
    "    \"Oregon\": \"Salem\",\n",
    "    \"Pennsylvania\": \"Harrisburg\",\n",
    "    \"Rhode Island\": \"Providence\",\n",
    "    \"South Carolina\": \"Columbia\",\n",
    "    \"South Dakota\": \"Pierre\",\n",
    "    \"Tennessee\": \"Nashville\",\n",
    "    \"Texas\": \"Austin\",\n",
    "    \"Utah\": \"Salt Lake City\",\n",
    "    \"Vermont\": \"Montpelier\",\n",
    "    \"Virginia\": \"Richmond\",\n",
    "    \"Washington\": \"Olympia\",\n",
    "    \"West Virginia\": \"Charleston\",\n",
    "    \"Wisconsin\": \"Madison\",\n",
    "    \"Wyoming\": \"Cheyenne\"\n",
    "}\n",
    "\n",
    "# initialize count of correct and incorrect answers\n",
    "correct_answers = 0\n",
    "incorrect_answers = 0\n",
    "\n",
    "# randomize the states and quiz the user\n",
    "states = list(states_capitals.keys())\n",
    "random.shuffle(states)\n",
    "for state in states:\n",
    "    user_answer = input(f\"What is the capital of {state}? \")\n",
    "    if user_answer.lower() == states_capitals[state].lower():\n",
    "        print(\"Correct!\")\n",
    "        correct_answers += 1\n",
    "    else:\n",
    "        print(f\"Incorrect. The capital of {state} is {states_capitals[state]}.\")\n",
    "        incorrect_answers += 1\n",
    "\n",
    "# print the final score\n",
    "print(f\"You got {correct_answers} answers correct and {incorrect_answers} answers incorrect.\")\n",
    "\n",
    "\n"
   ]
  },
  {
   "cell_type": "markdown",
   "id": "85ca06c7",
   "metadata": {
    "pycharm": {
     "name": "#%% md\n"
    }
   },
   "source": [
    "### 02. Course information\n",
    "\n",
    "Write a program that creates a dictionary containing course numbers and the room numbers\n",
    "of the rooms where the courses meet. The dictionary should have the following keyvalue\n",
    "pairs:\n",
    "\n",
    "|Course Number (key)|Room Number (value)|\n",
    "|---|---|\n",
    "|CS101| 3004|\n",
    "|CS102| 4501|\n",
    "|CS103| 6755|\n",
    "|NT110| 1244|\n",
    "|CM241| 1411|\n",
    "\n",
    "The program should also create a dictionary containing course numbers and the names of\n",
    "the instructors that teach each course. The dictionary should have the following key-value\n",
    "pairs:\n",
    "\n",
    "|Course Number (key)| Instructor (value)|\n",
    "|---|---|\n",
    "|CS101| Haynes|\n",
    "|CS102| Alvarado|\n",
    "|CS103| Rich|\n",
    "|NT110| Burke|\n",
    "|CM241| Lee|\n",
    "\n",
    "The program should also create a dictionary containing course numbers and the meeting\n",
    "times of each course. The dictionary should have the following key-value pairs:\n",
    "\n",
    "|Course Number (key)| Meeting Time (value)\n",
    "|---|---|\n",
    "|CS101| 8:00 a.m.|\n",
    "|CS102| 9:00 a.m.|\n",
    "|CS103| 10:00 a.m.|\n",
    "|NT110| 11:00 a.m.|\n",
    "|CM241| 1:00 p.m.|"
   ]
  },
  {
   "cell_type": "code",
   "execution_count": 1,
   "id": "1405ff96",
   "metadata": {
    "pycharm": {
     "name": "#%%\n"
    }
   },
   "outputs": [
    {
     "name": "stdout",
     "output_type": "stream",
     "text": [
      "Room Numbers: {'CS101': '3004', 'CS102': '4501', 'CS103': '6755', 'NT110': '1244', 'CM241': '1411'}\n",
      "Instructors: {'CS101': 'Haynes', 'CS102': 'Alvarado', 'CS103': 'Rich', 'NT110': 'Burke', 'CM241': 'Lee'}\n",
      "Meeting Times: {'CS101': '8:00 a.m.', 'CS102': '9:00 a.m.', 'CS103': '10:00 a.m.', 'NT110': '11:00 a.m.', 'CM241': '1:00 p.m.'}\n"
     ]
    }
   ],
   "source": [
    "# write your code here.\n",
    "#create dictionary for room numbers\n",
    "room_numbers = {\n",
    "    \"CS101\": \"3004\",\n",
    "    \"CS102\": \"4501\",\n",
    "    \"CS103\": \"6755\",\n",
    "    \"NT110\": \"1244\",\n",
    "    \"CM241\": \"1411\"\n",
    "}\n",
    "\n",
    "#create dictionary for instructors\n",
    "instructors = {\n",
    "    \"CS101\": \"Haynes\",\n",
    "    \"CS102\": \"Alvarado\",\n",
    "    \"CS103\": \"Rich\",\n",
    "    \"NT110\": \"Burke\",\n",
    "    \"CM241\": \"Lee\"\n",
    "}\n",
    "\n",
    "#create dictionary for meeting times\n",
    "meeting_times = {\n",
    "    \"CS101\": \"8:00 a.m.\",\n",
    "    \"CS102\": \"9:00 a.m.\",\n",
    "    \"CS103\": \"10:00 a.m.\",\n",
    "    \"NT110\": \"11:00 a.m.\",\n",
    "    \"CM241\": \"1:00 p.m.\"\n",
    "}\n",
    "\n",
    "#print the dictionaries\n",
    "print(\"Room Numbers:\", room_numbers)\n",
    "print(\"Instructors:\", instructors)\n",
    "print(\"Meeting Times:\", meeting_times)\n"
   ]
  },
  {
   "cell_type": "markdown",
   "id": "3e3ed612",
   "metadata": {
    "pycharm": {
     "name": "#%% md\n"
    }
   },
   "source": [
    "### 03. Find winner of election\n",
    "\n",
    "Given an array of names of candidates in an election. A candidate name in the array represents a vote cast to the candidate. Print the name of candidates received Max vote. If there is tie, print a lexicographically smaller name.\n",
    "\n",
    "**input** = ['john','johnny','jackie','johnny', \n",
    "            'john','jackie','jamie','jamie', \n",
    "            'john','johnny','jamie','johnny', \n",
    "            'john'] \n",
    "            \n",
    "            \n",
    "**Output** : John.\\\n",
    "We have four Candidates with name as 'John', \n",
    "'Johnny', 'jamie', 'jackie'. The candidates\n",
    "John and Johny get maximum votes. Since John\n",
    "is alphabetically smaller, we print it."
   ]
  },
  {
   "cell_type": "code",
   "execution_count": 3,
   "id": "86a65ea2",
   "metadata": {
    "pycharm": {
     "name": "#%%\n"
    }
   },
   "outputs": [
    {
     "name": "stdout",
     "output_type": "stream",
     "text": [
      "john\n"
     ]
    }
   ],
   "source": [
    "# write your code here.\n",
    "from collections import Counter\n",
    "\n",
    "# input array of names\n",
    "input_array = ['john','johnny','jackie','johnny', 'john','jackie','jamie','jamie', 'john','johnny','jamie','johnny', 'john']\n",
    "\n",
    "# count the number of votes for each candidate\n",
    "vote_count = Counter(input_array)\n",
    "\n",
    "# get the maximum number of votes\n",
    "max_votes = max(vote_count.values())\n",
    "\n",
    "# initialize list to store candidates with maximum number of votes\n",
    "max_vote_candidates = []\n",
    "\n",
    "# loop through the vote count dictionary\n",
    "for candidate, votes in vote_count.items():\n",
    "    if votes == max_votes:\n",
    "        max_vote_candidates.append(candidate)\n",
    "\n",
    "# sort the candidates lexicographically\n",
    "max_vote_candidates.sort()\n",
    "\n",
    "# print the first candidate (alphabetically smaller) from the list\n",
    "print(max_vote_candidates[0])\n"
   ]
  },
  {
   "cell_type": "markdown",
   "id": "681c23d6",
   "metadata": {
    "pycharm": {
     "name": "#%% md\n"
    }
   },
   "source": [
    "### 04. Reverse Incremental String Slicing\n",
    "\n",
    "Sometimes, while working with Pythonn strings, we can have a problem in which we need to perform the slice and print of strings in reverse order. This can have application in day-day programming. So in this exercise write a program that reverse the string in incremental order.\n",
    "\n",
    "For Example:\n",
    "\n",
    "    Orignal String : GIFT\n",
    "    \n",
    "    Incremental reverse strings: ['T','TF','TFI','TFIG']"
   ]
  },
  {
   "cell_type": "code",
   "execution_count": 6,
   "id": "e8712ce4",
   "metadata": {
    "pycharm": {
     "name": "#%%\n"
    }
   },
   "outputs": [
    {
     "name": "stdout",
     "output_type": "stream",
     "text": [
      "G\n",
      "IG\n",
      "FIG\n",
      "TFIG\n"
     ]
    }
   ],
   "source": [
    "# write your code here.\n",
    "\n",
    "# input string\n",
    "string = \"GIFT\"\n",
    "\n",
    "# loop through the string in reverse order\n",
    "for i in range(len(string)):\n",
    "    print(string[i::-1])"
   ]
  },
  {
   "cell_type": "markdown",
   "id": "a9ace708",
   "metadata": {
    "pycharm": {
     "name": "#%% md\n"
    }
   },
   "source": [
    "\n",
    "### 05. Alphabetic Telephone Number Translator\n",
    "\n",
    "Many companies use telephone numbers like 555-GET-FOOD so the number is easier for\n",
    "their customers to remember. On a standard telephone, the alphabetic letters are mapped\n",
    "to numbers in the following fashion:\n",
    "\n",
    "|Letters|Number|\n",
    "|---|---|\n",
    "|A, B, and C | 2\n",
    "|D, E, and F | 3\n",
    "|G, H, and I | 4\n",
    "|J, K, and L | 5\n",
    "|M, N, and O | 6\n",
    "|P, Q, R, and S | 7\n",
    "|T, U, and V | 8\n",
    "|W, X, Y, and Z | 9\n",
    "\n",
    "Write a program that asks the user to enter a 10-character telephone number in the format\n",
    "XXX-XXX-XXXX. The application should display the telephone number with any\n",
    "alphabetic characters that appeared in the original translated to their numeric equivalent.\n",
    "For example, if the user enters 555-GET-FOOD the application should display\n",
    "555-438-3663."
   ]
  },
  {
   "cell_type": "code",
   "execution_count": 8,
   "id": "7607db1a",
   "metadata": {
    "pycharm": {
     "name": "#%%\n"
    }
   },
   "outputs": [
    {
     "name": "stdout",
     "output_type": "stream",
     "text": [
      "Enter a telephone number in the format XXX-XXX-XXXX: ada-gcd-vffg\n",
      "Translated number: 232-423-8334\n"
     ]
    }
   ],
   "source": [
    "# write your code here.\n",
    "# dictionary to map letters to numbers\n",
    "letter_to_number = {\n",
    "    'A':'2', 'B':'2', 'C':'2',\n",
    "    'D':'3', 'E':'3', 'F':'3',\n",
    "    'G':'4', 'H':'4', 'I':'4',\n",
    "    'J':'5', 'K':'5', 'L':'5',\n",
    "    'M':'6', 'N':'6', 'O':'6',\n",
    "    'P':'7', 'Q':'7', 'R':'7', 'S':'7',\n",
    "    'T':'8', 'U':'8', 'V':'8',\n",
    "    'W':'9', 'X':'9', 'Y':'9', 'Z':'9'\n",
    "}\n",
    "\n",
    "# ask user to enter a telephone number\n",
    "telephone_number = input(\"Enter a telephone number in the format XXX-XXX-XXXX: \")\n",
    "\n",
    "# loop through each character in the telephone number\n",
    "translated_number = \"\"\n",
    "for char in telephone_number:\n",
    "    # check if the character is a letter\n",
    "    if char.isalpha():\n",
    "        # translate the letter to its numeric equivalent\n",
    "        char = letter_to_number[char.upper()]\n",
    "    translated_number += char\n",
    "\n",
    "print(\"Translated number:\", translated_number)\n"
   ]
  }
 ],
 "metadata": {
  "kernelspec": {
   "display_name": "Python 3 (ipykernel)",
   "language": "python",
   "name": "python3"
  },
  "language_info": {
   "codemirror_mode": {
    "name": "ipython",
    "version": 3
   },
   "file_extension": ".py",
   "mimetype": "text/x-python",
   "name": "python",
   "nbconvert_exporter": "python",
   "pygments_lexer": "ipython3",
   "version": "3.9.7"
  }
 },
 "nbformat": 4,
 "nbformat_minor": 5
}
