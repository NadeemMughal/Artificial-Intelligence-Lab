{
 "cells": [
  {
   "cell_type": "markdown",
   "id": "8b7b8dbd",
   "metadata": {
    "pycharm": {
     "name": "#%% md\n"
    }
   },
   "source": [
    "# Class Partipation 02"
   ]
  },
  {
   "cell_type": "markdown",
   "id": "32a41fcf",
   "metadata": {
    "pycharm": {
     "name": "#%% md\n"
    }
   },
   "source": [
    "## Kindly follow the given instructions below\n",
    "1. Download this file.\n",
    "2. Rename your file with your ID like.,\n",
    "    - *YourName - CP02 - YOUR_ROLL_NUMBER* ==> $\\color{blue}{\\text{Muhammad Nadeem - CP02 - 201980050}}$\n",
    "3. Write your solution of every question in its respective cell or block.\n",
    "4. Upload this file with your solutions.\n",
    "5. There will be **NO** any other file to be submitted.\n",
    "6. Penalty for plagirisam is to be straight **ZERO**.\n",
    "7. NO LATE SUBMISSION.\n",
    "8. $\\color{red}{\\text{LATE SUBMISSION WILL BE MARKED ZERO}}$"
   ]
  },
  {
   "cell_type": "markdown",
   "id": "17841261",
   "metadata": {
    "pycharm": {
     "name": "#%% md\n"
    }
   },
   "source": [
    "### 01. Budget Analysis\n",
    "Write a program that asks the user to enter the amount that he or she has budgeted for\n",
    "a month. A loop should then prompt the user to enter each of his or her expenses for the\n",
    "month and keep a running total. When the loop finishes, the program should display the\n",
    "amount that the user is over or under budget."
   ]
  },
  {
   "cell_type": "code",
   "execution_count": 2,
   "id": "4b2ebd9d",
   "metadata": {
    "pycharm": {
     "name": "#%%\n"
    }
   },
   "outputs": [
    {
     "name": "stdout",
     "output_type": "stream",
     "text": [
      "Enter the budget of the month: 21\n",
      "Enter the expenses: 32\n",
      "Do you have another expenses? (Enter y for yes and n for no): \n",
      "You are $11.0 over the budget \n",
      "Total: $32.0\n"
     ]
    }
   ],
   "source": [
    "# write your code here.\n",
    "# This program calculates budget for a month for a user.\n",
    "# Get the budget of a user\n",
    "budget = int(input('Enter the budget of the month: '))\n",
    "another = 'y'  # Variable to control the loop\n",
    "\n",
    "# Declare the accumulator\n",
    "total = 0.0\n",
    "\n",
    "# Process one or more expenses\n",
    "while another == 'y' or another == 'Y':\n",
    "    # Get the expenses\n",
    "    expenses = float(input('Enter the expenses: '))\n",
    "    total += expenses\n",
    "    # Do this again ?\n",
    "    another = input('Do you have another expenses? ' +\n",
    "                    '(Enter y for yes and n for no): ')\n",
    "\n",
    "if total > budget:\n",
    "    print(f'You are ${total - budget} over the budget ')\n",
    "elif total == budget:\n",
    "    print(f'Your budget is enough for expenses!')\n",
    "else:\n",
    "    print(f'You are ${total - budget} under the budget ')\n",
    "\n",
    "print(f'Total: ${total}')"
   ]
  },
  {
   "cell_type": "markdown",
   "id": "85ca06c7",
   "metadata": {
    "pycharm": {
     "name": "#%% md\n"
    }
   },
   "source": [
    "### 02. Average Rainfall\n",
    "Write a program that uses nested loops to collect data and calculate the average rainfall\n",
    "over a period of years. The program should first ask for the number of years. The outer loop\n",
    "will iterate once for each year. The inner loop will iterate twelve times, once for each month.\n",
    "Each iteration of the inner loop will ask the user for the inches of rainfall for that month.\n",
    "After all iterations, the program should display the number of months, the total inches of\n",
    "rainfall, and the average rainfall per month for the entire period."
   ]
  },
  {
   "cell_type": "code",
   "execution_count": 7,
   "id": "1405ff96",
   "metadata": {
    "pycharm": {
     "name": "#%%\n"
    }
   },
   "outputs": [
    {
     "name": "stdout",
     "output_type": "stream",
     "text": [
      "How many years do you want to track? 12\n",
      "\n",
      "Year number 12\n",
      "------------------------------\n",
      "How many inches for month  1 did it rain? 12\n",
      "How many inches for month  2 did it rain? 34\n",
      "How many inches for month  3 did it rain? 4\n",
      "How many inches for month  4 did it rain? 54\n",
      "How many inches for month  5 did it rain? 54\n",
      "How many inches for month  6 did it rain? 5\n",
      "How many inches for month  7 did it rain? 54\n",
      "How many inches for month  8 did it rain? 54\n",
      "How many inches for month  9 did it rain? 54\n",
      "How many inches for month  10 did it rain? 54\n",
      "How many inches for month  11 did it rain? 54\n",
      "How many inches for month  12 did it rain? 54\n",
      "The total inches of rain was  487.00 .\n",
      "The number of months measured was 144\n",
      "The average rainfall was 3.38 inches\n"
     ]
    }
   ],
   "source": [
    "# write your code here.\n",
    "years = int(input('How many years do you want to track? '))\n",
    "\n",
    "months = 12\n",
    "\n",
    "for years_rain in range(years):\n",
    "    total= 0.0\n",
    "\n",
    "print('\\nYear number', years_rain + 1)\n",
    "print('------------------------------')\n",
    "for month in range(months):\n",
    "    print('How many inches for month ', month + 1, end='')\n",
    "    rain = int(input(' did it rain? '))\n",
    "    total += rain\n",
    "\n",
    "\n",
    "number_months = years * months\n",
    "average = total / number_months\n",
    "\n",
    "print('The total inches of rain was ', format(total, '.2f'),'.')  \n",
    "print('The number of months measured was', number_months)\n",
    "print('The average rainfall was', format(average, '.2f'), 'inches')"
   ]
  },
  {
   "cell_type": "markdown",
   "id": "3e3ed612",
   "metadata": {
    "pycharm": {
     "name": "#%% md\n"
    }
   },
   "source": [
    "### 03. Ocean Level\n",
    "Assuming the ocean’s level is currently rising at about 1.6 millimeters per year, create an\n",
    "application that displays the number of millimeters that the ocean will have risen each year\n",
    "for the next 25 years."
   ]
  },
  {
   "cell_type": "code",
   "execution_count": 4,
   "id": "86a65ea2",
   "metadata": {
    "pycharm": {
     "name": "#%%\n"
    }
   },
   "outputs": [
    {
     "name": "stdout",
     "output_type": "stream",
     "text": [
      "Year | Number of millimeters\n",
      "1  |  1.5\n",
      "2  |  3.0\n",
      "3  |  4.5\n",
      "4  |  6.0\n",
      "5  |  7.5\n",
      "6  |  9.0\n",
      "7  |  10.5\n",
      "8  |  12.0\n",
      "9  |  13.5\n",
      "10  |  15.0\n",
      "11  |  16.5\n",
      "12  |  18.0\n",
      "13  |  19.5\n",
      "14  |  21.0\n",
      "15  |  22.5\n",
      "16  |  24.0\n",
      "17  |  25.5\n",
      "18  |  27.0\n",
      "19  |  28.5\n",
      "20  |  30.0\n",
      "21  |  31.5\n",
      "22  |  33.0\n",
      "23  |  34.5\n",
      "24  |  36.0\n",
      "25  |  37.5\n",
      "26  |  39.0\n",
      "27  |  40.5\n"
     ]
    }
   ],
   "source": [
    "# write your code here.\n",
    "print('Year | Number of millimeters') #Head of table\n",
    "for i in range(1, 28): #Loop for each year, not including 26\n",
    "    if (i < 10): # if-else constuction for pretty view\n",
    "        print(i, ' | ', 1.5*i) #Print table cell and calculate Number of millimeters\n",
    "    else:\n",
    "        print(i, ' | ', 1.5*i) #The same calculation,"
   ]
  },
  {
   "cell_type": "markdown",
   "id": "681c23d6",
   "metadata": {
    "pycharm": {
     "name": "#%% md\n"
    }
   },
   "source": [
    "### 04. Rainfall Statistics\n",
    "Design a program that lets the user enter the total rainfall for each of 12 months into a\n",
    "list. The program should calculate and display the total rainfall for the year, the average\n",
    "monthly rainfall, and the months with the highest and lowest amounts."
   ]
  },
  {
   "cell_type": "code",
   "execution_count": 8,
   "id": "e8712ce4",
   "metadata": {
    "pycharm": {
     "name": "#%%\n"
    }
   },
   "outputs": [
    {
     "name": "stdout",
     "output_type": "stream",
     "text": [
      "Please enter Jan rainfall: 21\n",
      "Please enter Feb rainfall: 12\n",
      "Please enter Mar rainfall: 12\n",
      "Please enter Apr rainfall: 1\n",
      "Please enter May rainfall: 12\n",
      "Please enter Jun rainfall: 12\n",
      "Please enter Jul rainfall: 21\n",
      "Please enter Aug rainfall: 21\n",
      "Please enter Sep rainfall: 12\n",
      "Please enter Oct rainfall: 12\n",
      "Please enter Nov rainfall: 12\n",
      "Please enter Dec rainfall: 12\n",
      "The minimum rainfall is 1.0\n",
      "The most rainfall is 21.0\n",
      "The total rainfall is 160.0\n",
      "The average rainfall is 13.333333333333334\n"
     ]
    }
   ],
   "source": [
    "# write your code here.\n",
    "year=[]\n",
    "jan=float(input('Please enter Jan rainfall: '))\n",
    "feb=float(input('Please enter Feb rainfall: '))\n",
    "mar=float(input('Please enter Mar rainfall: '))\n",
    "apr=float(input('Please enter Apr rainfall: '))\n",
    "may=float(input('Please enter May rainfall: '))\n",
    "jun=float(input('Please enter Jun rainfall: '))\n",
    "jul=float(input('Please enter Jul rainfall: '))\n",
    "aug=float(input('Please enter Aug rainfall: '))\n",
    "sep=float(input('Please enter Sep rainfall: '))\n",
    "oct=float(input('Please enter Oct rainfall: '))\n",
    "nov=float(input('Please enter Nov rainfall: '))\n",
    "dec=float(input('Please enter Dec rainfall: '))\n",
    "\n",
    "year.extend((jan, feb, mar, apr, may, jun, jul, aug, sep, oct, nov, dec))\n",
    "def lowest():\n",
    "    print('The minimum rainfall is', min(year))\n",
    "lowest()\n",
    "\n",
    "def highest():\n",
    "    print('The most rainfall is', max(year))\n",
    "highest()\n",
    "\n",
    "def total():\n",
    "    print('The total rainfall is', sum(year))\n",
    "total()\n",
    "\n",
    "def average():\n",
    "    print('The average rainfall is', float(sum(year))/len(year))\n",
    "average()"
   ]
  },
  {
   "cell_type": "markdown",
   "id": "a9ace708",
   "metadata": {
    "pycharm": {
     "name": "#%% md\n"
    }
   },
   "source": [
    "\n",
    "### 05. Lo Shu Magic Square\n",
    "\n",
    "The Lo Shu Magic Square is a grid with 3 rows and 3 columns. The\n",
    "Lo Shu Magic Square has the following properties:\n",
    "\n",
    "* The grid contains the numbers 1 through 9 exactly.\n",
    "* The sum of each row, each column, and each diagonal all add up to the same number.\n",
    "\n",
    "In a program you can simulate a magic square using a two-dimensional list. Write a function\n",
    "that accepts a two-dimensional list as an argument and determines whether the list is\n",
    "a Lo Shu Magic Square. Test the function in a program.\n",
    "\n",
    "![The Lo Shu Magic Square](Table1.png)\n",
    "\n",
    "---\n",
    "\n",
    "![The Lo Shu Magic Square](Table2.png)"
   ]
  },
  {
   "cell_type": "code",
   "execution_count": null,
   "id": "7607db1a",
   "metadata": {
    "pycharm": {
     "name": "#%%\n"
    }
   },
   "outputs": [],
   "source": [
    "# write your code here."
   ]
  }
 ],
 "metadata": {
  "kernelspec": {
   "display_name": "Python 3 (ipykernel)",
   "language": "python",
   "name": "python3"
  },
  "language_info": {
   "codemirror_mode": {
    "name": "ipython",
    "version": 3
   },
   "file_extension": ".py",
   "mimetype": "text/x-python",
   "name": "python",
   "nbconvert_exporter": "python",
   "pygments_lexer": "ipython3",
   "version": "3.9.7"
  }
 },
 "nbformat": 4,
 "nbformat_minor": 5
}
