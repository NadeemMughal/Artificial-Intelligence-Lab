{
 "cells": [
  {
   "cell_type": "markdown",
   "id": "fe9acf43",
   "metadata": {},
   "source": [
    "# Lab Test 02"
   ]
  },
  {
   "cell_type": "markdown",
   "id": "5e4c64ff",
   "metadata": {},
   "source": [
    "## Kindly follow the given instructions below\n",
    "1. Download this file.\n",
    "2. Rename your file with your ID like.,\n",
    "    - *YourName - LT02 - YOUR_ROLL_NUMBER*  ==>  $\\color{blue}{\\text{YourName - LT02 - 201980050}}$\n",
    "3. Write solution of every question in its respective cell or block.\n",
    "4. Upload this file with your solutions.\n",
    "5. There will be **NO** any other file to be submitted.\n",
    "6. Penalty for plagirisam is to be straight **ZERO**.\n",
    "7. NO LATE SUBMISSION.\n",
    "8. $\\color{red}{\\text{LATE SUBMISSION WILL BE MARKED ZERO}}$"
   ]
  },
  {
   "cell_type": "markdown",
   "id": "855ec885",
   "metadata": {},
   "source": [
    "## Convert the given problem into code\n",
    "\n",
    "Write a program that predicts the approximate size of a population of organisms. The\n",
    "application should allow the user to enter the starting number of organisms,\n",
    "the average daily population increase (as a percentage), and the number of days the\n",
    "organisms will be left to multiply. For example, assume the user enters the following values:\n",
    "\n",
    "Starting number of organisms: 2\n",
    "\n",
    "Average daily increase: 30%\n",
    "\n",
    "Number of days to multiply: 10\n",
    "\n",
    "The program should display the following table of data:\n",
    "\n",
    "| Day Approximate | Population |\n",
    "| --- | --- |\n",
    "| 1 | 2 |\n",
    "| 2 | 2.6 |\n",
    "| 3 | 3.38 |\n",
    "| 4 | 4.394 |\n",
    "| 5 | 5.7122 |\n",
    "|6 | 7.42586 |\n",
    "|7 | 9.653619 |\n",
    "|8 | 12.5497 |\n",
    "|9 | 16.31462 |\n",
    "|10 | 21.209 |"
   ]
  },
  {
   "cell_type": "code",
   "execution_count": 27,
   "id": "97a250cd",
   "metadata": {},
   "outputs": [
    {
     "name": "stdout",
     "output_type": "stream",
     "text": [
      "Starting number of organisms: 2\n",
      "Average daily increase: 30\n",
      "Number of days to multiply: 10\n",
      "Day Approximate\tPopulation\n",
      "1 \t 62.0\n",
      "2 \t 1922.0\n",
      "3 \t 59582.0\n",
      "4 \t 1847042.0\n",
      "5 \t 57258302.0\n",
      "6 \t 1775007362.0\n",
      "7 \t 55025228222.0\n",
      "8 \t 1705782074882.0\n",
      "9 \t 52879244321342.0\n"
     ]
    }
   ],
   "source": [
    "# Write your code here.\n",
    "a = int(input(\"Starting number of organisms: \"))\n",
    "b = float(input(\"Average daily increase: \"))\n",
    "c = int(input(\"Number of days to multiply: \"))\n",
    "print(\"Day Approximate\\tPopulation\")\n",
    "for c in range(a, c + 1):\n",
    "    add = a * b\n",
    "    a = a + add\n",
    "    print(c - 1, '\\t', a)\n",
    "\n",
    "\n"
   ]
  },
  {
   "cell_type": "code",
   "execution_count": null,
   "id": "602d10c9",
   "metadata": {},
   "outputs": [],
   "source": []
  }
 ],
 "metadata": {
  "kernelspec": {
   "display_name": "Python 3 (ipykernel)",
   "language": "python",
   "name": "python3"
  },
  "language_info": {
   "codemirror_mode": {
    "name": "ipython",
    "version": 3
   },
   "file_extension": ".py",
   "mimetype": "text/x-python",
   "name": "python",
   "nbconvert_exporter": "python",
   "pygments_lexer": "ipython3",
   "version": "3.9.12"
  }
 },
 "nbformat": 4,
 "nbformat_minor": 5
}
