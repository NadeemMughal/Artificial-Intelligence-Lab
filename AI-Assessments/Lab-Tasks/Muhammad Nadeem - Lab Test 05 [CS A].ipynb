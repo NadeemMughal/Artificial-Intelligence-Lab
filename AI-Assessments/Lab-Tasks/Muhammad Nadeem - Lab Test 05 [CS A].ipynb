{
 "cells": [
  {
   "cell_type": "markdown",
   "id": "fe9acf43",
   "metadata": {
    "pycharm": {
     "name": "#%% md\n"
    }
   },
   "source": [
    "# Lab Test 05"
   ]
  },
  {
   "cell_type": "markdown",
   "id": "5e4c64ff",
   "metadata": {
    "pycharm": {
     "name": "#%% md\n"
    }
   },
   "source": [
    "## Kindly follow the given instructions below\n",
    "1. Download this file.\n",
    "2. Rename your file with your ID like.,\n",
    "    - *YourName - LT05 - YOUR_ROLL_NUMBER*  ==>  $\\color{blue}{\\text{Muhammad Nadeem - LT05 - 201980050}}$\n",
    "3. Write solution of every question in its respective cell or block.\n",
    "4. Upload this file with your solutions.\n",
    "5. There will be **NO** any other file to be submitted.\n",
    "6. Penalty for plagirisam is to be straight **ZERO**.\n",
    "7. NO LATE SUBMISSION.\n",
    "8. $\\color{red}{\\text{LATE SUBMISSION WILL BE MARKED ZERO}}$"
   ]
  },
  {
   "cell_type": "markdown",
   "id": "95c7aebf",
   "metadata": {},
   "source": [
    "### See the question on the white board"
   ]
  },
  {
   "cell_type": "code",
   "execution_count": 15,
   "id": "745e2f6a",
   "metadata": {
    "pycharm": {
     "name": "#%%\n"
    }
   },
   "outputs": [
    {
     "name": "stdout",
     "output_type": "stream",
     "text": [
      "[[7 8 9 5 6 3 1]\n",
      " [2 1 8 6 2 5 6]\n",
      " [8 9 6 1 5 7 6]\n",
      " [7 5 8 9 8 3 1]]\n"
     ]
    }
   ],
   "source": [
    "# Write your code here.\n",
    "import numpy as np\n",
    "a=np.array([[7,8,9,5,6,3,1],[2,1,8,6,2,5,6],[8,9,6,1,5,7,6],[7,5,8,9,8,3,1]])\n",
    "print(a)\n",
    "# Finally get\n",
    "#  [8 5 6]\n",
    "#  [8 3 1]\n",
    "# by slicing"
   ]
  },
  {
   "cell_type": "code",
   "execution_count": 30,
   "id": "1a2707b3",
   "metadata": {},
   "outputs": [
    {
     "name": "stdout",
     "output_type": "stream",
     "text": [
      "[[8 9]]\n",
      "[[2 1 8 6 2 5 6]]\n",
      "[[7 5 8 9 8 3 1]]\n",
      "\n",
      "[[8 6 2]\n",
      " [6 1 5]]\n",
      "\n",
      "[[2 1 8 6 2 5 6]] [[7 5 8 9 8 3 1]]\n"
     ]
    }
   ],
   "source": [
    "a1=a[:1,1:3]\n",
    "print(a1)\n",
    "l2=a[1:2]\n",
    "print(l2)\n",
    "l4=a[3:4]\n",
    "print(l4)\n",
    "print()\n",
    "print(a[1:3, 2:5])\n",
    "print()\n",
    "\n",
    "print(l2,l4)\n",
    "\n",
    "\n",
    "\n",
    "\n"
   ]
  },
  {
   "cell_type": "code",
   "execution_count": 31,
   "id": "ef346abb",
   "metadata": {},
   "outputs": [
    {
     "name": "stdout",
     "output_type": "stream",
     "text": [
      "[[7 8 9 5 6 3 1]\n",
      " [2 1 8 6 2 5 6]\n",
      " [8 9 6 1 5 7 6]\n",
      " [7 5 8 9 8 3 1]]\n"
     ]
    },
    {
     "data": {
      "text/plain": [
       "(4, 7)"
      ]
     },
     "execution_count": 31,
     "metadata": {},
     "output_type": "execute_result"
    }
   ],
   "source": [
    "# Write your code here.\n",
    "import numpy as np\n",
    "a=np.array([[7,8,9,5,6,3,1],[2,1,8,6,2,5,6],[8,9,6,1,5,7,6],[7,5,8,9,8,3,1]])\n",
    "print(a)\n",
    "# Finally get\n",
    "#  [8 5 6]\n",
    "#  [8 3 1]\n",
    "# by slicing\n",
    "\n",
    "a.shape"
   ]
  },
  {
   "cell_type": "code",
   "execution_count": 36,
   "id": "3ba5c963",
   "metadata": {},
   "outputs": [
    {
     "name": "stdout",
     "output_type": "stream",
     "text": [
      "[[7 8 9 5 6 3 1]\n",
      " [2 1 8 6 2 5 6]\n",
      " [8 9 6 1 5 7 6]\n",
      " [7 5 8 9 8 3 1]]\n",
      "\n",
      "[[7 8 9 5 6 3 1 2 1 8 6 2 5 6]\n",
      " [8 9 6 1 5 7 6 7 5 8 9 8 3 1]]\n"
     ]
    }
   ],
   "source": [
    "# Write your code here.\n",
    "import numpy as np\n",
    "a=np.array([[7,8,9,5,6,3,1],[2,1,8,6,2,5,6],[8,9,6,1,5,7,6],[7,5,8,9,8,3,1]])\n",
    "print(a)\n",
    "# Finally get\n",
    "#  [8 5 6]\n",
    "#  [8 3 1]\n",
    "# by slicing\n",
    "print()\n",
    "b=a.reshape(2,14)\n",
    "print(b)"
   ]
  },
  {
   "cell_type": "code",
   "execution_count": 46,
   "id": "3f83b321",
   "metadata": {},
   "outputs": [
    {
     "name": "stdout",
     "output_type": "stream",
     "text": [
      "[[7 8 9 5 6 3 1 2 1 8 6 2 5 6]]\n",
      "[[8 5 3]]\n"
     ]
    }
   ],
   "source": [
    "print(b[:1,])\n",
    "q=b[:1,1:3:2]\n",
    "r=b[:1,1:6:2]\n",
    "print(r)"
   ]
  },
  {
   "cell_type": "code",
   "execution_count": 43,
   "id": "b76f6057",
   "metadata": {},
   "outputs": [
    {
     "name": "stdout",
     "output_type": "stream",
     "text": [
      "[[8 9 6 1 5 7 6 7 5 8 9 8 3 1]]\n"
     ]
    }
   ],
   "source": [
    "print(b[1:2])"
   ]
  }
 ],
 "metadata": {
  "kernelspec": {
   "display_name": "Python 3 (ipykernel)",
   "language": "python",
   "name": "python3"
  },
  "language_info": {
   "codemirror_mode": {
    "name": "ipython",
    "version": 3
   },
   "file_extension": ".py",
   "mimetype": "text/x-python",
   "name": "python",
   "nbconvert_exporter": "python",
   "pygments_lexer": "ipython3",
   "version": "3.9.12"
  }
 },
 "nbformat": 4,
 "nbformat_minor": 5
}
