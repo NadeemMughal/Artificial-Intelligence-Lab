{
 "cells": [
  {
   "cell_type": "markdown",
   "id": "fe9acf43",
   "metadata": {
    "pycharm": {
     "name": "#%% md\n"
    }
   },
   "source": [
    "# Lab Test 06"
   ]
  },
  {
   "cell_type": "markdown",
   "id": "5e4c64ff",
   "metadata": {
    "pycharm": {
     "name": "#%% md\n"
    }
   },
   "source": [
    "## Kindly follow the given instructions below\n",
    "1. Download this file.\n",
    "2. Rename your file with your ID like.,\n",
    "    - *YourName - LT06 - YOUR_ROLL_NUMBER*  ==>  $\\color{blue}{\\text{Muhammad Nadeem - LT06 - 201980050}}$\n",
    "3. Write solution of every question in its respective cell or block.\n",
    "4. Upload this file with your solutions.\n",
    "5. There will be **NO** any other file to be submitted.\n",
    "6. Penalty for plagirisam is to be straight **ZERO**.\n",
    "7. NO LATE SUBMISSION.\n",
    "8. $\\color{red}{\\text{LATE SUBMISSION WILL BE MARKED ZERO}}$"
   ]
  },
  {
   "cell_type": "markdown",
   "id": "7f3898eb",
   "metadata": {
    "pycharm": {
     "name": "#%% md\n"
    }
   },
   "source": [
    "### You’ve dataset named as “dataset.csv”. while using pandas, you’ve to answer following questions below."
   ]
  },
  {
   "cell_type": "markdown",
   "id": "95c7aebf",
   "metadata": {},
   "source": [
    "#### Question-01: The min, max and mean of spending in Canadian Dollar (CAD)"
   ]
  },
  {
   "cell_type": "code",
   "execution_count": 27,
   "id": "745e2f6a",
   "metadata": {
    "pycharm": {
     "name": "#%%\n"
    }
   },
   "outputs": [
    {
     "name": "stdout",
     "output_type": "stream",
     "text": [
      "Here is Some information About price(CAD)\n"
     ]
    },
    {
     "data": {
      "text/plain": [
       "count    30000.000000\n",
       "mean        49.990775\n",
       "std         28.768666\n",
       "min          0.000000\n",
       "25%         25.345000\n",
       "50%         49.970000\n",
       "75%         74.942500\n",
       "max        100.000000\n",
       "Name: price(CAD), dtype: float64"
      ]
     },
     "execution_count": 27,
     "metadata": {},
     "output_type": "execute_result"
    }
   ],
   "source": [
    "# Write your code here.\n",
    "import pandas as pd\n",
    "df=pd.read_csv('dataset.csv')\n",
    "a=df['price(CAD)']\n",
    "b=a.describe()\n",
    "print('Here is Some information About price(CAD)')\n",
    "b\n",
    "#df.describe()"
   ]
  },
  {
   "cell_type": "markdown",
   "id": "142cc317",
   "metadata": {},
   "source": [
    "#### Question-02: Which day of the week, the store gets more customers?"
   ]
  },
  {
   "cell_type": "code",
   "execution_count": 28,
   "id": "066d8717",
   "metadata": {
    "pycharm": {
     "name": "#%%\n"
    },
    "scrolled": true
   },
   "outputs": [],
   "source": [
    "# Write your code here.\n",
    "import pandas as pd\n",
    "from sklearn.preprocessing import LabelEncoder\n",
    "df=pd.read_csv('dataset.csv')\n",
    "df\n",
    "a=df['weekday']\n",
    "Encoder=LabelEncoder()\n",
    "# Encode it and find most unique values\n",
    "#else\n",
    "# Use loop.😒"
   ]
  },
  {
   "cell_type": "markdown",
   "id": "6afeb7be",
   "metadata": {},
   "source": [
    "# Python Solved This Mystery"
   ]
  },
  {
   "cell_type": "code",
   "execution_count": 31,
   "id": "b80d09d4",
   "metadata": {},
   "outputs": [
    {
     "ename": "TypeError",
     "evalue": "sorted expected 1 argument, got 2",
     "output_type": "error",
     "traceback": [
      "\u001b[1;31m---------------------------------------------------------------------------\u001b[0m",
      "\u001b[1;31mTypeError\u001b[0m                                 Traceback (most recent call last)",
      "Input \u001b[1;32mIn [31]\u001b[0m, in \u001b[0;36m<cell line: 1>\u001b[1;34m()\u001b[0m\n\u001b[1;32m----> 1\u001b[0m \u001b[38;5;28;43msorted\u001b[39;49m\u001b[43m(\u001b[49m\u001b[38;5;124;43m'\u001b[39;49m\u001b[38;5;124;43m🥚\u001b[39;49m\u001b[38;5;124;43m'\u001b[39;49m\u001b[43m,\u001b[49m\u001b[38;5;124;43m'\u001b[39;49m\u001b[38;5;124;43m🐓\u001b[39;49m\u001b[38;5;124;43m'\u001b[39;49m\u001b[43m)\u001b[49m\n\u001b[0;32m      2\u001b[0m \u001b[38;5;28msorted\u001b[39m(\u001b[38;5;124m'\u001b[39m\u001b[38;5;124m'\u001b[39m)\n",
      "\u001b[1;31mTypeError\u001b[0m: sorted expected 1 argument, got 2"
     ]
    }
   ],
   "source": [
    "sorted('🥚','🐓')\n"
   ]
  }
 ],
 "metadata": {
  "kernelspec": {
   "display_name": "Python 3 (ipykernel)",
   "language": "python",
   "name": "python3"
  },
  "language_info": {
   "codemirror_mode": {
    "name": "ipython",
    "version": 3
   },
   "file_extension": ".py",
   "mimetype": "text/x-python",
   "name": "python",
   "nbconvert_exporter": "python",
   "pygments_lexer": "ipython3",
   "version": "3.9.12"
  }
 },
 "nbformat": 4,
 "nbformat_minor": 5
}
