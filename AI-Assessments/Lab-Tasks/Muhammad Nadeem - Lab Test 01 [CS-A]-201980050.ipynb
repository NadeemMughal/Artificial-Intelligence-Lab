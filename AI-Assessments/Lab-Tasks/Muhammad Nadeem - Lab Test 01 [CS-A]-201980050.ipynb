{
 "cells": [
  {
   "cell_type": "markdown",
   "id": "fe9acf43",
   "metadata": {},
   "source": [
    "# Lab Test 01"
   ]
  },
  {
   "cell_type": "markdown",
   "id": "5e4c64ff",
   "metadata": {},
   "source": [
    "## Kindly follow the given instructions below\n",
    "1. Download this file.\n",
    "2. Rename your file with your ID like.,\n",
    "    - *YourName - LT01 - YOUR_ROLL_NUMBER*  ==>  $\\color{blue}{\\text{YourName - LT01 - 19250152}}$\n",
    "3. Write solution of every question in its respective cell or block.\n",
    "4. Upload this file with your solutions.\n",
    "5. There will be **NO** any other file to be submitted.\n",
    "6. Penalty for plagirisam is to be straight **ZERO**.\n",
    "7. NO LATE SUBMISSION.\n",
    "8. $\\color{red}{\\text{LATE SUBMISSION WILL BE MARKED ZERO}}$"
   ]
  },
  {
   "cell_type": "markdown",
   "id": "855ec885",
   "metadata": {},
   "source": [
    "## Writing a program\n",
    "In this task, you are being asked to write a program which will calculate and output the weekly salary of a worker.\n",
    "Write a program which will ask the user to enter number of hours a person worked per day and the salary per hour, and then calculates and prints the salary of the worker."
   ]
  },
  {
   "cell_type": "code",
   "execution_count": 13,
   "id": "97a250cd",
   "metadata": {},
   "outputs": [
    {
     "name": "stdout",
     "output_type": "stream",
     "text": [
      "Enter Salary per hour 200\n",
      "enter number of hours a person worked per day 6\n",
      "1200.0\n",
      "Weekly Salary is \n",
      "8400.0\n"
     ]
    }
   ],
   "source": [
    "salary=float(input(\"Enter Salary per hour \"))\n",
    "hours_per_day=float(input(\"enter number of hours a person worked per day \"))\n",
    "Per_Day_Salary = hours_per_day * salary\n",
    "print(Per_Day_Salary)\n",
    "Weekly=Per_Day_Salary*7\n",
    "print(\"Weekly Salary is \")\n",
    "print(Weekly)\n",
    "\n"
   ]
  }
 ],
 "metadata": {
  "kernelspec": {
   "display_name": "Python 3 (ipykernel)",
   "language": "python",
   "name": "python3"
  },
  "language_info": {
   "codemirror_mode": {
    "name": "ipython",
    "version": 3
   },
   "file_extension": ".py",
   "mimetype": "text/x-python",
   "name": "python",
   "nbconvert_exporter": "python",
   "pygments_lexer": "ipython3",
   "version": "3.9.12"
  }
 },
 "nbformat": 4,
 "nbformat_minor": 5
}
