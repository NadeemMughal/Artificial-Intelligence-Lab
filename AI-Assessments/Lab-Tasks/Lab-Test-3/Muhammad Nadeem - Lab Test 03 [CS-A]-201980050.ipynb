{
 "cells": [
  {
   "cell_type": "markdown",
   "id": "fe9acf43",
   "metadata": {
    "pycharm": {
     "name": "#%% md\n"
    }
   },
   "source": [
    "# Lab Test 03"
   ]
  },
  {
   "cell_type": "markdown",
   "id": "5e4c64ff",
   "metadata": {
    "pycharm": {
     "name": "#%% md\n"
    }
   },
   "source": [
    "## Kindly follow the given instructions below\n",
    "1. Download this file.\n",
    "2. Rename your file with your ID like.,\n",
    "    - *YourName - LT03 - YOUR_ROLL_NUMBER*  ==>  $\\color{blue}{\\text{Muhammad Nadeem - LT03 - 201980050}}$\n",
    "3. Write solution of every question in its respective cell or block.\n",
    "4. Upload this file with your solutions.\n",
    "5. There will be **NO** any other file to be submitted.\n",
    "6. Penalty for plagirisam is to be straight **ZERO**.\n",
    "7. NO LATE SUBMISSION.\n",
    "8. $\\color{red}{\\text{LATE SUBMISSION WILL BE MARKED ZERO}}$"
   ]
  },
  {
   "cell_type": "markdown",
   "id": "7f3898eb",
   "metadata": {
    "pycharm": {
     "name": "#%% md\n"
    }
   },
   "source": [
    "### Solve the given problem using csv\n",
    "\n",
    "You've a dataset named as \"Automobile_data.csv\". By using \"csv\" library, display all data where company is \"BMW\"."
   ]
  },
  {
   "cell_type": "markdown",
   "id": "8396737d",
   "metadata": {
    "pycharm": {
     "name": "#%%\n"
    }
   },
   "source": []
  },
  {
   "cell_type": "code",
   "execution_count": 18,
   "id": "80203024",
   "metadata": {},
   "outputs": [
    {
     "name": "stdout",
     "output_type": "stream",
     "text": [
      "{'index': '9', 'company': 'bmw', 'body-style': 'sedan', 'wheel-base': '101.2', 'length': '176.8', 'engine-type': 'ohc', 'num-of-cylinders': 'four', 'horsepower': '101', 'average-mileage': '23', 'price': '16430'}\n",
      "{'index': '10', 'company': 'bmw', 'body-style': 'sedan', 'wheel-base': '101.2', 'length': '176.8', 'engine-type': 'ohc', 'num-of-cylinders': 'four', 'horsepower': '101', 'average-mileage': '23', 'price': '16925'}\n",
      "{'index': '11', 'company': 'bmw', 'body-style': 'sedan', 'wheel-base': '101.2', 'length': '176.8', 'engine-type': 'ohc', 'num-of-cylinders': 'six', 'horsepower': '121', 'average-mileage': '21', 'price': '20970'}\n",
      "{'index': '13', 'company': 'bmw', 'body-style': 'sedan', 'wheel-base': '103.5', 'length': '189', 'engine-type': 'ohc', 'num-of-cylinders': 'six', 'horsepower': '182', 'average-mileage': '16', 'price': '30760'}\n",
      "{'index': '14', 'company': 'bmw', 'body-style': 'sedan', 'wheel-base': '103.5', 'length': '193.8', 'engine-type': 'ohc', 'num-of-cylinders': 'six', 'horsepower': '182', 'average-mileage': '16', 'price': '41315'}\n",
      "{'index': '15', 'company': 'bmw', 'body-style': 'sedan', 'wheel-base': '110', 'length': '197', 'engine-type': 'ohc', 'num-of-cylinders': 'six', 'horsepower': '182', 'average-mileage': '15', 'price': '36880'}\n"
     ]
    }
   ],
   "source": [
    "import csv\n",
    "\n",
    "with open('Automobile_data.csv') as file:\n",
    "    reader = csv.DictReader(file)\n",
    "    \n",
    "    for row in reader:\n",
    "        if row['company'] == 'bmw':\n",
    "            print(row)\n"
   ]
  }
 ],
 "metadata": {
  "kernelspec": {
   "display_name": "Python 3 (ipykernel)",
   "language": "python",
   "name": "python3"
  },
  "language_info": {
   "codemirror_mode": {
    "name": "ipython",
    "version": 3
   },
   "file_extension": ".py",
   "mimetype": "text/x-python",
   "name": "python",
   "nbconvert_exporter": "python",
   "pygments_lexer": "ipython3",
   "version": "3.9.12"
  }
 },
 "nbformat": 4,
 "nbformat_minor": 5
}
