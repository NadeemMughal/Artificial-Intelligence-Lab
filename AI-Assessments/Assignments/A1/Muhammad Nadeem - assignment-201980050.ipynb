{
 "cells": [
  {
   "cell_type": "markdown",
   "id": "4f9d0570",
   "metadata": {},
   "source": [
    "### Problem 01: Reverse a List"
   ]
  },
  {
   "cell_type": "markdown",
   "id": "546e7ad4",
   "metadata": {},
   "source": [
    "Write a function that takes a list of integers as input and returns the list in reverse order.\n",
    "\n",
    "Examples:\n",
    "\n",
    "    Input: [1, 2, 3, 4, 5]\n",
    "    Output: [5, 4, 3, 2, 1]\n",
    "\n",
    "    Input: [6, 7, 8, 9, 10]\n",
    "    Output: [10, 9, 8, 7, 6]"
   ]
  },
  {
   "cell_type": "code",
   "execution_count": 16,
   "id": "68e0af3d",
   "metadata": {},
   "outputs": [
    {
     "name": "stdout",
     "output_type": "stream",
     "text": [
      "[5, 4, 3, 2, 1]\n"
     ]
    }
   ],
   "source": [
    "# write your solution here.\n",
    "input_list=[1,2,3,4,5]\n",
    "def reverse_list(input_list):\n",
    "    return input_list[::-1]\n",
    "output = reverse_list(input_list)\n",
    "print(output)"
   ]
  },
  {
   "cell_type": "markdown",
   "id": "258b615c",
   "metadata": {},
   "source": [
    "### Problem 02: Convert Celsius to Fahrenheit"
   ]
  },
  {
   "cell_type": "markdown",
   "id": "f4df104d",
   "metadata": {},
   "source": [
    "Write a function that takes a temperature in Celsius as input and returns the equivalent temperature in Fahrenheit.\n",
    "\n",
    "The formula for converting Celsius to Fahrenheit is:\n",
    "    \n",
    "    F = (C * 9/5) + 32\n",
    "   \n",
    "Examples:\n",
    "\n",
    "    Input: 0\n",
    "    Output: 32\n",
    "\n",
    "    Input: 37\n",
    "    Output: 98.6"
   ]
  },
  {
   "cell_type": "code",
   "execution_count": 10,
   "id": "4526287a",
   "metadata": {},
   "outputs": [
    {
     "name": "stdout",
     "output_type": "stream",
     "text": [
      "Enter number to find a celcius to farenheit 0\n",
      "Enter Again number to find a celcius to farenheit 37\n",
      "32.0\n",
      "98.6\n"
     ]
    }
   ],
   "source": [
    "# write your solution here.\n",
    "a=float(input(\"Enter number to find a celcius to farenheit \"))\n",
    "b=float(input(\"Enter Again number to find a celcius to farenheit \"))\n",
    "\n",
    "celsius=0\n",
    "def celsius_to_fahrenheit(celsius):\n",
    "    \n",
    "    fahrenheit = (celsius * 9/5) + 32\n",
    "    return fahrenheit\n",
    "print(celsius_to_fahrenheit(a))\n",
    "print(celsius_to_fahrenheit(b))"
   ]
  },
  {
   "cell_type": "markdown",
   "id": "df95c6cb",
   "metadata": {},
   "source": [
    "### Problem 03: Count the Occurrences of Each Word"
   ]
  },
  {
   "cell_type": "markdown",
   "id": "9ccb5a47",
   "metadata": {},
   "source": [
    "Write a function that takes a string as input and returns a dictionary where the keys are the words in the string and the values are the number of times each word appears.\n",
    "\n",
    "Examples:\n",
    "\n",
    "    Input: \"the cat in the hat\"\n",
    "    Output: {'the': 2, 'cat': 1, 'in': 1, 'hat': 1}\n",
    "\n",
    "    Input: \"this is a test this is a test\"\n",
    "    Output: {'this': 2, 'is': 2, 'a': 2, 'test': 2}"
   ]
  },
  {
   "cell_type": "code",
   "execution_count": 23,
   "id": "c5aa2b87",
   "metadata": {},
   "outputs": [
    {
     "name": "stdout",
     "output_type": "stream",
     "text": [
      "{'the': 2, 'cat': 1, 'in': 1, 'hat': 1}\n"
     ]
    }
   ],
   "source": [
    "# write your solution here.\n",
    "input_string=\"the cat in the hat\"\n",
    "def word_count(input_string):\n",
    "    words = input_string.split()\n",
    "    word_counts = {}\n",
    "    for word in words:\n",
    "        if word in word_counts:\n",
    "            word_counts[word] += 1\n",
    "        else:\n",
    "            word_counts[word] = 1\n",
    "    return word_counts\n",
    "print(word_count(input_string))\n"
   ]
  },
  {
   "cell_type": "markdown",
   "id": "32eb0df9",
   "metadata": {},
   "source": [
    "### Problem 04: Check if a Number is Prime"
   ]
  },
  {
   "cell_type": "markdown",
   "id": "7a1c0921",
   "metadata": {},
   "source": [
    "Write a function that takes a positive integer as input and returns True if the number is prime, and False if it is not.\n",
    "\n",
    "Examples:\n",
    "\n",
    "    Input: 2\n",
    "    Output: True\n",
    "\n",
    "    Input: 8\n",
    "    Output: False"
   ]
  },
  {
   "cell_type": "code",
   "execution_count": 33,
   "id": "fbd1ac24",
   "metadata": {},
   "outputs": [
    {
     "name": "stdout",
     "output_type": "stream",
     "text": [
      "False\n"
     ]
    }
   ],
   "source": [
    "# write your solution here.\n",
    "n=0\n",
    "def is_prime(n):\n",
    "    if n < 2:\n",
    "        return False\n",
    "    for i in range(2, int(n ** 0.5) + 1):\n",
    "        if n % i == 0:\n",
    "            return False\n",
    "    return True\n",
    "print(is_prime(n))\n"
   ]
  },
  {
   "cell_type": "markdown",
   "id": "59cdb01f",
   "metadata": {},
   "source": [
    "### Problem 05: Find the Longest Word"
   ]
  },
  {
   "cell_type": "markdown",
   "id": "c8d58b99",
   "metadata": {},
   "source": [
    "Write a function that takes a list of strings as input and returns the longest word in the list.\n",
    "\n",
    "Examples:\n",
    "\n",
    "    Input: [\"hello\", \"world\", \"this\", \"is\", \"a\", \"test\"]\n",
    "    Output: \"hello\"\n",
    "\n",
    "    Input: [\"how\", \"are\", \"you\", \"today\"]\n",
    "    Output: \"today\""
   ]
  },
  {
   "cell_type": "code",
   "execution_count": 34,
   "id": "aa9dae27",
   "metadata": {},
   "outputs": [
    {
     "name": "stdout",
     "output_type": "stream",
     "text": [
      "hello\n"
     ]
    }
   ],
   "source": [
    "# write your solution here.\n",
    "word_list=[\"hello\", \"world\", \"this\", \"is\", \"a\", \"test\"]\n",
    "def longest_word(word_list):\n",
    "    longest_word = \"\"\n",
    "    for word in word_list:\n",
    "        if len(word) > len(longest_word):\n",
    "            longest_word = word\n",
    "    return longest_word\n",
    "print(longest_word(word_list))"
   ]
  },
  {
   "cell_type": "markdown",
   "id": "d0ccc93f",
   "metadata": {},
   "source": [
    "### Problem 06: Calculate the Sum of a List of Numbers"
   ]
  },
  {
   "cell_type": "markdown",
   "id": "f2fe85fa",
   "metadata": {},
   "source": [
    "Write a function that takes a list of numbers as input and returns the sum of all the numbers in the list.\n",
    "\n",
    "Examples:\n",
    "\n",
    "    Input: [1, 2, 3, 4, 5]\n",
    "    Output: 15\n",
    "\n",
    "    Input: [6, 7, 8, 9, 10]\n",
    "    Output: 40"
   ]
  },
  {
   "cell_type": "code",
   "execution_count": 35,
   "id": "8e310fc6",
   "metadata": {},
   "outputs": [
    {
     "name": "stdout",
     "output_type": "stream",
     "text": [
      "15\n"
     ]
    }
   ],
   "source": [
    "# write your solution here.\n",
    "number_list= [1, 2, 3, 4, 5]\n",
    "def sum_of_numbers(number_list):\n",
    "    total = 0\n",
    "    for number in number_list:\n",
    "        total += number\n",
    "    return total\n",
    "print(sum_of_numbers(number_list))"
   ]
  },
  {
   "cell_type": "markdown",
   "id": "578a3afe",
   "metadata": {},
   "source": [
    "### Problem 07: Check if a Number is Even or Odd"
   ]
  },
  {
   "cell_type": "markdown",
   "id": "284c65b6",
   "metadata": {},
   "source": [
    "Write a function that takes a positive integer as input and returns \"Even\" if the number is even, and \"Odd\" if it is odd.\n",
    "\n",
    "Examples:\n",
    "\n",
    "    Input: 2\n",
    "    Output: \"Even\"\n",
    "\n",
    "    Input: 5\n",
    "    Output: \"Odd\""
   ]
  },
  {
   "cell_type": "code",
   "execution_count": 39,
   "id": "168c2820",
   "metadata": {},
   "outputs": [
    {
     "name": "stdout",
     "output_type": "stream",
     "text": [
      "Odd\n"
     ]
    }
   ],
   "source": [
    "# write your solution here.\n",
    "number=7\n",
    "def even_or_odd(number):\n",
    "    if number % 2 == 0:\n",
    "        return \"Even\"\n",
    "    else:\n",
    "        return \"Odd\"\n",
    "print(even_or_odd(number))"
   ]
  },
  {
   "cell_type": "markdown",
   "id": "571f1fb6",
   "metadata": {},
   "source": [
    "### Problem 08: Get the Factorial of a Number"
   ]
  },
  {
   "cell_type": "markdown",
   "id": "0b2e780e",
   "metadata": {},
   "source": [
    "Write a function that takes a positive integer as input and returns the factorial of the number.\n",
    "\n",
    "Examples:\n",
    "\n",
    "    Input: 5\n",
    "    Output: 120\n",
    "\n",
    "    Input: 7\n",
    "    Output: 5040"
   ]
  },
  {
   "cell_type": "code",
   "execution_count": 40,
   "id": "8ca3cf9a",
   "metadata": {},
   "outputs": [
    {
     "name": "stdout",
     "output_type": "stream",
     "text": [
      "24\n"
     ]
    }
   ],
   "source": [
    "# write your solution here.\n",
    "number=4\n",
    "def factorial(number):\n",
    "    if number == 0:\n",
    "        return 1\n",
    "    factorial = 1\n",
    "    for i in range(1, number + 1):\n",
    "        factorial *= i\n",
    "    return factorial\n",
    "print(factorial(number))"
   ]
  },
  {
   "cell_type": "markdown",
   "id": "afaa6eeb",
   "metadata": {},
   "source": [
    "### Problem 09: Convert a List to a Tuple"
   ]
  },
  {
   "cell_type": "markdown",
   "id": "c13b8ec4",
   "metadata": {},
   "source": [
    "Write a function that takes a list as input and returns a tuple with the same elements as the list.\n",
    "\n",
    "Examples:\n",
    "\n",
    "    Input: [1, 2, 3, 4, 5]\n",
    "    Output: (1, 2, 3, 4, 5)\n",
    "\n",
    "    Input: [\"apple\", \"banana\", \"cherry\"]\n",
    "    Output: (\"apple\", \"banana\", \"cherry\")"
   ]
  },
  {
   "cell_type": "code",
   "execution_count": 42,
   "id": "5d9f5e91",
   "metadata": {},
   "outputs": [
    {
     "name": "stdout",
     "output_type": "stream",
     "text": [
      "('apple', 'banana', 'cherry')\n"
     ]
    }
   ],
   "source": [
    "# write your solution here.\n",
    "input_list=[\"apple\", \"banana\", \"cherry\"]\n",
    "def list_to_tuple(input_list):\n",
    "    return tuple(input_list)\n",
    "print(list_to_tuple(input_list))"
   ]
  },
  {
   "cell_type": "markdown",
   "id": "c4d5b595",
   "metadata": {},
   "source": [
    "### Problem 10: Check if an Element is in a Tuple"
   ]
  },
  {
   "cell_type": "markdown",
   "id": "dc79b3a4",
   "metadata": {},
   "source": [
    "Write a function that takes a tuple and an element as input and returns True if the element is in the tuple, and False if it is not.\n",
    "\n",
    "Examples:\n",
    "\n",
    "    Input: (1, 2, 3, 4, 5), 3\n",
    "    Output: True\n",
    "\n",
    "    Input: (6, 7, 8, 9, 10), 11\n",
    "    Output: False"
   ]
  },
  {
   "cell_type": "code",
   "execution_count": 43,
   "id": "fd7a1d25",
   "metadata": {},
   "outputs": [
    {
     "name": "stdout",
     "output_type": "stream",
     "text": [
      "True\n"
     ]
    }
   ],
   "source": [
    "# write your solution here.\n",
    "input_tuple=(1, 2, 3, 4, 5)\n",
    "element=3\n",
    "def is_in_tuple(input_tuple, element):\n",
    "    return element in input_tuple\n",
    "print(is_in_tuple(input_tuple,element))"
   ]
  },
  {
   "cell_type": "markdown",
   "id": "f9076c4f",
   "metadata": {},
   "source": [
    "### Problem 11: Merge Two Dictionaries"
   ]
  },
  {
   "cell_type": "markdown",
   "id": "5c747d97",
   "metadata": {},
   "source": [
    "Write a function that takes two dictionaries as input and returns a new dictionary that contains the key-value pairs of both dictionaries. In case of overlapping keys, the values of the second dictionary should overwrite the values of the first dictionary.\n",
    "\n",
    "Examples:\n",
    "\n",
    "    Input: {1: \"one\", 2: \"two\"}, {2: \"two\", 3: \"three\"}\n",
    "    Output: {1: \"one\", 2: \"two\", 3: \"three\"}\n",
    "\n",
    "    Input: {\"a\": 1, \"b\": 2}, {\"c\": 3, \"d\": 4}\n",
    "    Output: {\"a\": 1, \"b\": 2, \"c\": 3, \"d\": 4}"
   ]
  },
  {
   "cell_type": "code",
   "execution_count": 44,
   "id": "84165209",
   "metadata": {},
   "outputs": [
    {
     "name": "stdout",
     "output_type": "stream",
     "text": [
      "{1: 'one', 2: 'two', 3: 'three'}\n"
     ]
    }
   ],
   "source": [
    "# write your solution here.\n",
    "dict1={1: \"one\", 2: \"two\"}\n",
    "dict2={2: \"two\", 3: \"three\"}\n",
    "def merge_dicts(dict1, dict2):\n",
    "    result = dict1.copy()\n",
    "    result.update(dict2)\n",
    "    return result\n",
    "print(merge_dicts(dict1,dict2))\n"
   ]
  },
  {
   "cell_type": "markdown",
   "id": "5e4560ce",
   "metadata": {},
   "source": [
    "### Problem 12: Check if Two Sets Have Any Common Elements"
   ]
  },
  {
   "cell_type": "markdown",
   "id": "ec32b7be",
   "metadata": {},
   "source": [
    "Write a function that takes two sets as input and returns True if the sets have any common elements, and False if they do not.\n",
    "\n",
    "Examples:\n",
    "\n",
    "    Input: {1, 2, 3, 4, 5}, {4, 5, 6, 7, 8}\n",
    "    Output: True\n",
    "\n",
    "    Input: {6, 7, 8, 9, 10}, {11, 12, 13, 14, 15}\n",
    "    Output: False"
   ]
  },
  {
   "cell_type": "code",
   "execution_count": 45,
   "id": "b0259786",
   "metadata": {},
   "outputs": [
    {
     "name": "stdout",
     "output_type": "stream",
     "text": [
      "True\n"
     ]
    }
   ],
   "source": [
    "# write your solution here.\n",
    "set1= {1, 2, 3, 4, 5}\n",
    "set2={4, 5, 6, 7, 8}\n",
    "def sets_have_common_elements(set1, set2):\n",
    "    return bool(set1.intersection(set2))\n",
    "print(sets_have_common_elements(set1,set2))"
   ]
  },
  {
   "cell_type": "markdown",
   "id": "da0a77ac",
   "metadata": {},
   "source": [
    "### Problem 13: Reverse a String"
   ]
  },
  {
   "cell_type": "markdown",
   "id": "f799b42a",
   "metadata": {},
   "source": [
    "Write a function that takes a string as input and returns the string in reverse order.\n",
    "\n",
    "Examples:\n",
    "\n",
    "    Input: \"hello\"\n",
    "    Output: \"olleh\"\n",
    "\n",
    "    Input: \"world\"\n",
    "    Output: \"dlrow\""
   ]
  },
  {
   "cell_type": "code",
   "execution_count": 47,
   "id": "7510d87e",
   "metadata": {},
   "outputs": [
    {
     "name": "stdout",
     "output_type": "stream",
     "text": [
      "olleh\n"
     ]
    }
   ],
   "source": [
    "# write your solution here.\n",
    "input_string=\"hello\"\n",
    "def reverse_string(input_string):\n",
    "    return input_string[::-1]\n",
    "print(reverse_string(input_string))\n"
   ]
  },
  {
   "cell_type": "markdown",
   "id": "622c76c1",
   "metadata": {},
   "source": [
    "### Problem 14: Count the Occurrences of a Substring"
   ]
  },
  {
   "cell_type": "markdown",
   "id": "6bca4c50",
   "metadata": {},
   "source": [
    "Write a function that takes a string and a substring as input and returns the number of occurrences of the substring in the string.\n",
    "\n",
    "Examples:\n",
    "\n",
    "    Input: \"hello world\", \"o\"\n",
    "    Output: 2\n",
    "\n",
    "    Input: \"this is a test\", \"i\"\n",
    "    Output: 3"
   ]
  },
  {
   "cell_type": "code",
   "execution_count": 48,
   "id": "e1ea18ff",
   "metadata": {},
   "outputs": [
    {
     "name": "stdout",
     "output_type": "stream",
     "text": [
      "2\n"
     ]
    }
   ],
   "source": [
    "# write your solution here.\n",
    "string=\"hello world\"\n",
    "substring=\"o\"\n",
    "def count_substring(string, substring):\n",
    "    return string.count(substring)\n",
    "print(count_substring(string,substring))"
   ]
  },
  {
   "cell_type": "markdown",
   "id": "6fd0cab7",
   "metadata": {},
   "source": [
    "### Problem 15: Create a Rectangle Class"
   ]
  },
  {
   "cell_type": "markdown",
   "id": "a3de65a0",
   "metadata": {},
   "source": [
    "Create a class called Rectangle that has two attributes: length and width. The class should have a method called get_area that returns the area of the rectangle and a method called get_perimeter that returns the perimeter of the rectangle.\n",
    "\n",
    "Examples:\n",
    "\n",
    "    rect = Rectangle(5, 10)\n",
    "    print(rect.get_length()) # 5\n",
    "    print(rect.get_width()) # 10\n",
    "    print(rect.get_area()) # 50\n",
    "    print(rect.get_perimeter()) # 30"
   ]
  },
  {
   "cell_type": "code",
   "execution_count": 55,
   "id": "2b676161",
   "metadata": {},
   "outputs": [
    {
     "name": "stdout",
     "output_type": "stream",
     "text": [
      "5\n",
      "10\n",
      "50\n",
      "30\n"
     ]
    }
   ],
   "source": [
    "# write your solution here.\n",
    "class Rectangle:\n",
    "    def __init__(self, length, width):\n",
    "        self.length = length\n",
    "        self.width = width\n",
    "\n",
    "    def get_length(self):\n",
    "        return self.length\n",
    "\n",
    "    def get_width(self):\n",
    "        return self.width\n",
    "\n",
    "    def get_area(self):\n",
    "        return self.length * self.width\n",
    "\n",
    "    def get_perimeter(self):\n",
    "        return 2 * (self.length + self.width)\n",
    "rect = Rectangle(5, 10)\n",
    "print(rect.get_length()) # 5\n",
    "print(rect.get_width()) # 10\n",
    "print(rect.get_area()) # 50\n",
    "print(rect.get_perimeter()) # 30"
   ]
  },
  {
   "cell_type": "markdown",
   "id": "6bf79fa0",
   "metadata": {},
   "source": [
    "### Problem 16: Create a Car Class"
   ]
  },
  {
   "cell_type": "markdown",
   "id": "b469d5c5",
   "metadata": {},
   "source": [
    "Create a class called Car that has two attributes: make and model. The class should have a method called info that returns the make and model of the car. The class should also have a method called drive that returns the message \"Driving [make] [model]\" where [make] and [model] are the make and model of the car.\n",
    "\n",
    "Examples:\n",
    "\n",
    "    car = Car(\"Toyota\", \"Camry\")\n",
    "    print(car.get_make) # \"Toyota\"\n",
    "    print(car.get_model) # \"Camry\"\n",
    "    print(car.get_info()) # \"Toyota Camry\"\n",
    "    print(car.drive()) # \"Driving Toyota Camry\""
   ]
  },
  {
   "cell_type": "code",
   "execution_count": 58,
   "id": "8067ae9e",
   "metadata": {},
   "outputs": [
    {
     "name": "stdout",
     "output_type": "stream",
     "text": [
      "Toyota\n",
      "Camry\n",
      "Toyota Camry\n",
      "Driving Toyota Camry\n"
     ]
    }
   ],
   "source": [
    "# write your solution here.\n",
    "class Car:\n",
    "    def __init__(self, make, model):\n",
    "        self.make = make\n",
    "        self.model = model\n",
    "\n",
    "    def get_make(self):\n",
    "        return self.make\n",
    "\n",
    "    def get_model(self):\n",
    "        return self.model\n",
    "\n",
    "    def get_info(self):\n",
    "        return f\"{self.make} {self.model}\"\n",
    "\n",
    "    def drive(self):\n",
    "        return f\"Driving {self.make} {self.model}\"\n",
    "car = Car(\"Toyota\", \"Camry\")\n",
    "print(car.get_make()) # \"Toyota\"\n",
    "print(car.get_model()) # \"Camry\"\n",
    "print(car.get_info()) # \"Toyota Camry\"\n",
    "print(car.drive()) # \"Driving Toyota Camry\""
   ]
  },
  {
   "cell_type": "markdown",
   "id": "9020c2b3",
   "metadata": {},
   "source": [
    "### Problem 17: Read a CSV File"
   ]
  },
  {
   "cell_type": "markdown",
   "id": "5e91c357",
   "metadata": {},
   "source": [
    "Write a function that takes a CSV file as input and returns a list of dictionaries, where each dictionary represents a row in the CSV file. The keys in each dictionary should be the header row of the CSV file and the values should be the corresponding values for each row.\n",
    "\n",
    "Examples:\n",
    "\n",
    "    CSV file: (create file with given data if needed)\n",
    "    Name, Age, Gender\n",
    "    John, 30, Male\n",
    "    Jane, 25, Female\n",
    "\n",
    "    Output:\n",
    "    [{\"Name\": \"John\", \"Age\": \"30\", \"Gender\": \"Male\"}, {\"Name\": \"Jane\", \"Age\": \"25\", \"Gender\": \"Female\"}]"
   ]
  },
  {
   "cell_type": "code",
   "execution_count": 60,
   "id": "008e3813",
   "metadata": {},
   "outputs": [
    {
     "name": "stdout",
     "output_type": "stream",
     "text": [
      "[{'ï»¿Name ': 'John', 'Age': '30', ' Gender': 'Male'}, {'ï»¿Name ': 'Jane', 'Age': '25', ' Gender': 'Female'}]\n"
     ]
    }
   ],
   "source": [
    "# write your solution here.\n",
    "import csv\n",
    "\n",
    "def csv_to_dict(file_path):\n",
    "    with open(file_path, 'r') as file:\n",
    "        reader = csv.DictReader(file)\n",
    "        return [row for row in reader]\n",
    "file_path = 'Book1.csv'\n",
    "data = csv_to_dict(file_path)\n",
    "print(data)\n"
   ]
  },
  {
   "cell_type": "markdown",
   "id": "03bd88f9",
   "metadata": {},
   "source": [
    "### Problem 18: Write a CSV File"
   ]
  },
  {
   "cell_type": "markdown",
   "id": "252b243c",
   "metadata": {},
   "source": [
    "Write a function that takes a list of dictionaries and a CSV file path as input and writes the dictionaries to the CSV file, creating a new file or overwriting an existing file. The keys of each dictionary should be used as the header row in the CSV file.\n",
    "\n",
    "Examples:\n",
    "\n",
    "    Input: \n",
    "        data = [{\"Name\": \"John\", \"Age\": \"30\", \"Gender\": \"Male\"},\n",
    "            {\"Name\": \"Jane\", \"Age\": \"25\", \"Gender\": \"Female\"}]\n",
    "        file_path = \"data.csv\"\n",
    "    \n",
    "    Output:\n",
    "        CSV file:\n",
    "        Name, Age, Gender\n",
    "        John, 30, Male\n",
    "        Jane, 25, Female\n"
   ]
  },
  {
   "cell_type": "code",
   "execution_count": 67,
   "id": "bd33e7ef",
   "metadata": {},
   "outputs": [
    {
     "name": "stdout",
     "output_type": "stream",
     "text": [
      "None\n"
     ]
    }
   ],
   "source": [
    "# write your solution here.\n",
    "import csv\n",
    "data=[{\"Name\": \"John\", \"Age\": \"30\", \"Gender\": \"Male\"},\n",
    "        {\"Name\": \"Jane\", \"Age\": \"25\", \"Gender\": \"Female\"}]\n",
    "file_path = \"data.csv\"\n",
    "def write_to_csv(data, file_path):\n",
    "    with open(\"data.csv\", \"w\", newline=\"\") as f:\n",
    "        writer = csv.DictWriter(f, fieldnames=data[0].keys())\n",
    "        writer.writeheader()\n",
    "        for row in data:\n",
    "            writer.writerow(row)\n",
    "print(write_to_csv(data,file_path))"
   ]
  },
  {
   "cell_type": "markdown",
   "id": "4832e354",
   "metadata": {},
   "source": [
    "### Problem 19: Divide Numbers"
   ]
  },
  {
   "cell_type": "markdown",
   "id": "3e83686c",
   "metadata": {},
   "source": [
    "Write a function that takes two numbers as input and returns their division. If the second number is 0, the function should raise a ValueError with the message \"Cannot divide by zero.\"\n",
    "\n",
    "Examples:\n",
    "\n",
    "    Input:\n",
    "        num1 = 10\n",
    "        num2 = 2\n",
    "\n",
    "    Output: 5\n",
    "    \n",
    "    Input:\n",
    "        num1 = 10\n",
    "        num2 = 0\n",
    "\n",
    "    Output: ValueError: Cannot divide by zero."
   ]
  },
  {
   "cell_type": "code",
   "execution_count": 71,
   "id": "871456d7",
   "metadata": {},
   "outputs": [
    {
     "name": "stdout",
     "output_type": "stream",
     "text": [
      "3.3333333333333335\n"
     ]
    }
   ],
   "source": [
    "# write your solution here.\n",
    "num1 = 10\n",
    "num2 = 3\n",
    "def divide_numbers(num1, num2):\n",
    "    if num2 == 0:\n",
    "        raise ValueError(\"Cannot divide by zero.\")\n",
    "    return num1 / num2\n",
    "print(divide_numbers(num1,num2))\n"
   ]
  },
  {
   "cell_type": "markdown",
   "id": "869d4b1c",
   "metadata": {},
   "source": [
    "### Problem 20: Find Unique Values in a Column"
   ]
  },
  {
   "cell_type": "markdown",
   "id": "da59c699",
   "metadata": {},
   "source": [
    "Write a function that takes a CSV file and a column name as input and returns a list of the unique values in that column.\n",
    "\n",
    "Examples:\n",
    "\n",
    "    CSV file: (create file with given data if needed)\n",
    "    Name, Age, Gender\n",
    "    John, 30, Male\n",
    "    Jane, 25, Female\n",
    "    John, 30, Male\n",
    "\n",
    "    Input:\n",
    "        file_path = \"data.csv\"\n",
    "        column_name = \"Name\"\n",
    "\n",
    "    Output: [\"John\", \"Jane\"]"
   ]
  },
  {
   "cell_type": "code",
   "execution_count": 72,
   "id": "42fabd6d",
   "metadata": {},
   "outputs": [
    {
     "name": "stdout",
     "output_type": "stream",
     "text": [
      "['Jane', 'John']\n"
     ]
    }
   ],
   "source": [
    "# write your solution here.\n",
    "import csv\n",
    "file_path = \"data.csv\"\n",
    "column_name = \"Name\"\n",
    "def get_unique_values(file_path, column_name):\n",
    "    with open(file_path, 'r') as file:\n",
    "        reader = csv.DictReader(file)\n",
    "        values = [row[column_name] for row in reader]\n",
    "        return list(set(values))\n",
    "print(get_unique_values(file_path,column_name))"
   ]
  }
 ],
 "metadata": {
  "kernelspec": {
   "display_name": "Python 3 (ipykernel)",
   "language": "python",
   "name": "python3"
  },
  "language_info": {
   "codemirror_mode": {
    "name": "ipython",
    "version": 3
   },
   "file_extension": ".py",
   "mimetype": "text/x-python",
   "name": "python",
   "nbconvert_exporter": "python",
   "pygments_lexer": "ipython3",
   "version": "3.9.7"
  }
 },
 "nbformat": 4,
 "nbformat_minor": 5
}
